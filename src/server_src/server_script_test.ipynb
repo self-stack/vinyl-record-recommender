{
 "cells": [
  {
   "cell_type": "code",
   "execution_count": 1,
   "metadata": {},
   "outputs": [],
   "source": [
    "import spotipy\n",
    "from spotipy.oauth2 import SpotifyClientCredentials\n",
    "from random import choice\n",
    "import pickle\n",
    "import pandas as pd\n",
    "from collections import defaultdict\n",
    "import lyricsgenius\n",
    "from essential_generators import DocumentGenerator\n",
    "import re\n",
    "import collections"
   ]
  },
  {
   "cell_type": "code",
   "execution_count": 2,
   "metadata": {},
   "outputs": [],
   "source": [
    "def get_keys():\n",
    "    '''\n",
    "    Access API keys from external file and placed in a list. \n",
    "\n",
    "    Parameters\n",
    "    ----------\n",
    "    None:\n",
    "\n",
    "    Returns\n",
    "    ----------\n",
    "    API_KEYS : (list)\n",
    "        Return API keys used for connected to Spotify and Genius APIs.\n",
    "    '''\n",
    "    f = open('api_keys.txt', 'r')\n",
    "    API_KEYS = f.readlines()\n",
    "    \n",
    "    for idx, key in enumerate(API_KEYS):\n",
    "        API_KEYS[idx] = key.replace('\\n', '')\n",
    "        \n",
    "    return API_KEYS"
   ]
  },
  {
   "cell_type": "code",
   "execution_count": 3,
   "metadata": {},
   "outputs": [],
   "source": [
    "def get_album_ids_from_query(album_search):\n",
    "    '''\n",
    "    Pluck unique album IDs from API query, iterrates through paginated query, return list of album IDs from query.\n",
    "\n",
    "    Parameters\n",
    "    ----------\n",
    "    album_query: (dict)\n",
    "        Dictionary querried from Spotify API.\n",
    "\n",
    "    Returns\n",
    "    ----------\n",
    "    album_ids : (list)\n",
    "        Return album IDs from API query.\n",
    "    '''\n",
    "    album_info = album_search['albums']['items']\n",
    "    album_ids = []\n",
    "    \n",
    "    for n in range(len(album_info)):\n",
    "        album_ids.append(album_info[n]['id'])\n",
    "        \n",
    "        \n",
    "    return album_ids"
   ]
  },
  {
   "cell_type": "code",
   "execution_count": 4,
   "metadata": {},
   "outputs": [],
   "source": [
    "#random gen functions for api query\n",
    "def get_rand_offset():\n",
    "    return choice(range(10))\n",
    "def get_rand_word(gen):\n",
    "    return gen.word()"
   ]
  },
  {
   "cell_type": "code",
   "execution_count": 5,
   "metadata": {},
   "outputs": [],
   "source": [
    "def album_builder_test(album):\n",
    "    album_dict = defaultdict(list)\n",
    "    \n",
    "    album_dict['artist'].append(album['artists'][0]['name'])\n",
    "    album_dict['artist_id'].append(album['artists'][0]['id'])\n",
    "    album_dict['album'].append(album['name'])\n",
    "    album_dict['album_type'].append(album['album_type'])\n",
    "    album_dict['album_id'].append(album['id'])\n",
    "    album_dict['album_label'].append(album['label'])\n",
    "    album_dict['upc_code'].append(album['external_ids']['upc'])\n",
    "    album_dict['album_popularity'].append(album['popularity'])\n",
    "    album_dict['release_date'].append(album['release_date'])\n",
    "    album_dict['release_prec'].append(album['release_date_precision'])\n",
    "    album_dict['genres'].append(album['genres'])\n",
    "    album_dict['album_release'].append(album['name'] + ' by ' + album['artists'][0]['name'])\n",
    "\n",
    "    tracks, track_ids = [], [] \n",
    "    for track in album['tracks']['items']:\n",
    "        tracks.append(track['name'])\n",
    "        track_ids.append(track['id'])\n",
    "    \n",
    "    \n",
    "    return album_dict, tracks, track_ids"
   ]
  },
  {
   "cell_type": "code",
   "execution_count": 6,
   "metadata": {},
   "outputs": [],
   "source": [
    "def decode_lyrics(s):\n",
    "    s = s.encode('ascii', 'ignore')\n",
    "    s = s.decode()\n",
    "    s = s.replace('\\n', ' ')\n",
    "    s = s.replace('-', ' ')\n",
    "    s = re.sub(r'[\\[].*?[\\)\\]]', ' ', s)\n",
    "    \n",
    "    return s"
   ]
  },
  {
   "cell_type": "code",
   "execution_count": 7,
   "metadata": {},
   "outputs": [],
   "source": [
    "def lyrics_builder(song_names, artist, album_id, genius):\n",
    "    '''\n",
    "    songs: lst\n",
    "    artist: str\n",
    "    genius: api obj\n",
    "    '''\n",
    "    lyrics_dict = defaultdict(list)\n",
    "\n",
    "    lyrics_dict['album_id'] = album_id\n",
    "    album_lyrics = ''\n",
    "    for song in song_names:\n",
    "        song_search = genius.search_song(song, artist)\n",
    "        album_lyrics += song_search.lyrics\n",
    "        \n",
    "    lyrics_dict['lyrics'] = decode_lyrics(album_lyrics)\n",
    "    \n",
    "    return lyrics_dict"
   ]
  },
  {
   "cell_type": "code",
   "execution_count": 8,
   "metadata": {},
   "outputs": [],
   "source": [
    "def genres_builder(album_id, genres):\n",
    "    genre_dict = defaultdict(list)\n",
    "    \n",
    "    genre_dict['album_id'] = album_id\n",
    "    genre_dict['genres'] = genres\n",
    "    \n",
    "    return genre_dict"
   ]
  },
  {
   "cell_type": "code",
   "execution_count": 9,
   "metadata": {},
   "outputs": [],
   "source": [
    "def audio_features_builder(album_id, audio_features):\n",
    "    audio_feat_dict = defaultdict(list)\n",
    "    keys_to_pop = ['type', 'id', 'uri', 'track_href', 'analysis_url']\n",
    "    track_feats = ['danceability', 'energy', 'key', \n",
    "                    'loudness', 'mode', 'speechiness', 'acousticness',\n",
    "                   'instrumentalness', 'liveness', 'valence', 'tempo', 'duration_ms', 'time_signature']\n",
    "    \n",
    "    \n",
    "    audio_feat_dict['album_id'] = album_id\n",
    "    for track_info in audio_features:\n",
    "        [track_info.pop(key) for key in keys_to_pop]\n",
    "        \n",
    "    counter = collections.Counter()\n",
    "    \n",
    "    for d in audio_features:\n",
    "        counter.update(d)\n",
    "        \n",
    "    sum_ = dict(counter)\n",
    "    for k, v in sum_.items():\n",
    "        audio_feat_dict[k] = v / len(audio_features)\n",
    "\n",
    "    return audio_feat_dict"
   ]
  },
  {
   "cell_type": "markdown",
   "metadata": {},
   "source": [
    "# Test and build df"
   ]
  },
  {
   "cell_type": "code",
   "execution_count": 10,
   "metadata": {},
   "outputs": [],
   "source": [
    "# CONST and API instantiation\n",
    "\n",
    "client_id, client_secret, client_access_token = get_keys()\n",
    "gen = DocumentGenerator()\n",
    "q_type='album'\n",
    "limit = 50\n",
    "sp = spotipy.Spotify(auth_manager=SpotifyClientCredentials(client_id=client_id,\n",
    "                                                          client_secret=client_secret))\n",
    "genius = lyricsgenius.Genius(client_access_token=client_access_token)"
   ]
  },
  {
   "cell_type": "markdown",
   "metadata": {},
   "source": [
    "## ---Test single album ---"
   ]
  },
  {
   "cell_type": "code",
   "execution_count": 11,
   "metadata": {},
   "outputs": [],
   "source": [
    "test_id = '4yP0hdKOZPNshxUOjY0cZj'\n",
    "# album_tracks = sp.album_tracks(test_id)\n",
    "album = sp.album(test_id)"
   ]
  },
  {
   "cell_type": "markdown",
   "metadata": {},
   "source": [
    "## --- Test complete ---"
   ]
  },
  {
   "cell_type": "code",
   "execution_count": 12,
   "metadata": {},
   "outputs": [],
   "source": [
    "album_dict, tracks, track_ids = album_builder_test(album)\n",
    "#to mongo, to genius + album_dict['artist'][0], to get features"
   ]
  },
  {
   "cell_type": "code",
   "execution_count": 13,
   "metadata": {},
   "outputs": [],
   "source": [
    "artist = album_dict['artist'][0]\n",
    "artist_id = album_dict['artist_id'][0]\n",
    "album_id = album_dict['album_id'][0]"
   ]
  },
  {
   "cell_type": "code",
   "execution_count": 14,
   "metadata": {},
   "outputs": [],
   "source": [
    "genres = sp.artist(artist_id)['genres']"
   ]
  },
  {
   "cell_type": "code",
   "execution_count": 15,
   "metadata": {},
   "outputs": [],
   "source": [
    "audio_features = sp.audio_features(track_ids)"
   ]
  },
  {
   "cell_type": "code",
   "execution_count": 16,
   "metadata": {},
   "outputs": [],
   "source": [
    "genres_dict = genres_builder(album_id, genres)"
   ]
  },
  {
   "cell_type": "code",
   "execution_count": 17,
   "metadata": {},
   "outputs": [
    {
     "name": "stdout",
     "output_type": "stream",
     "text": [
      "Searching for \"Alone Again\" by The Weeknd...\n",
      "Done.\n",
      "Searching for \"Too Late\" by The Weeknd...\n",
      "Done.\n",
      "Searching for \"Hardest To Love\" by The Weeknd...\n",
      "Done.\n",
      "Searching for \"Scared To Live\" by The Weeknd...\n",
      "Done.\n",
      "Searching for \"Snowchild\" by The Weeknd...\n",
      "Done.\n",
      "Searching for \"Escape From LA\" by The Weeknd...\n",
      "Done.\n",
      "Searching for \"Heartless\" by The Weeknd...\n",
      "Done.\n",
      "Searching for \"Faith\" by The Weeknd...\n",
      "Done.\n",
      "Searching for \"Blinding Lights\" by The Weeknd...\n",
      "Done.\n",
      "Searching for \"In Your Eyes\" by The Weeknd...\n",
      "Done.\n",
      "Searching for \"Save Your Tears\" by The Weeknd...\n",
      "Done.\n",
      "Searching for \"Repeat After Me (Interlude)\" by The Weeknd...\n",
      "Done.\n",
      "Searching for \"After Hours\" by The Weeknd...\n",
      "Done.\n",
      "Searching for \"Until I Bleed Out\" by The Weeknd...\n",
      "Done.\n"
     ]
    }
   ],
   "source": [
    "lyrics_dict = lyrics_builder(tracks, artist, album_id, genius)\n",
    "# to mongo"
   ]
  },
  {
   "cell_type": "code",
   "execution_count": 18,
   "metadata": {},
   "outputs": [],
   "source": [
    "features_dict = audio_features_builder(album_id, audio_features)"
   ]
  },
  {
   "cell_type": "markdown",
   "metadata": {},
   "source": [
    "### Testing dictionaries for mongo db"
   ]
  },
  {
   "cell_type": "code",
   "execution_count": 19,
   "metadata": {},
   "outputs": [
    {
     "data": {
      "text/plain": [
       "defaultdict(list,\n",
       "            {'artist': ['The Weeknd'],\n",
       "             'artist_id': ['1Xyo4u8uXC1ZmMpatF05PJ'],\n",
       "             'album': ['After Hours'],\n",
       "             'album_type': ['album'],\n",
       "             'album_id': ['4yP0hdKOZPNshxUOjY0cZj'],\n",
       "             'album_label': ['Republic Records'],\n",
       "             'upc_code': ['00602508924224'],\n",
       "             'album_popularity': [96],\n",
       "             'release_date': ['2020-03-20'],\n",
       "             'release_prec': ['day'],\n",
       "             'genres': [[]],\n",
       "             'album_release': ['After Hours by The Weeknd']})"
      ]
     },
     "execution_count": 19,
     "metadata": {},
     "output_type": "execute_result"
    }
   ],
   "source": [
    "album_dict"
   ]
  },
  {
   "cell_type": "code",
   "execution_count": 20,
   "metadata": {},
   "outputs": [
    {
     "data": {
      "text/plain": [
       "defaultdict(list,\n",
       "            {'album_id': '4yP0hdKOZPNshxUOjY0cZj',\n",
       "             'lyrics': \"  Take off my disguise I'm living someone else's life Suppressing who I was inside So I throw twothousandones in thesky Together we're alone (Together we're alone) InVegas, I feel so at home (In Vegas, I feelsoathome) I'm falling onlyfor the night SoI throw two thousand ones in the sky (The sky) Oh, oh, oh, how much to light up my star again And rewire all my thoughts? Oh, baby, won't you remind me what I am And break, break my little cold heart?    Oh, oh, oh, oh Oh oh, oh oh oh, oh, oh oh Oh oh, oh, oh oh oh, oh Oh, oh oh oh, oh    Call me up and I'll send for you Take me down to your altitude I don't know if I can be alone again (Alone again) I don't know if I can sleep alone again (Alone again) Check my pulse for a second time (A second time) I took too much, I don't wanna die I don't know if I can be alone again (Alone again) I don't know if I can sleep alone again    Woah oh oh oh oh Woah oh oh oh oh Oh oh oh, oh oh, oh, oh, oh, oh, oh oh Oh oh oh, oh oh, oh, oh, oh, oh, oh oh    Count it up, it's all for you, count it up Count it up, it's all for you, count it up 'Cause I don't know if I can be alone again I don't know if I can be alone again  No no, no no, no no no    I let you down, I led you on I never thought I'd be herewithoutyou Don't let medrown inside your arms Bad thoughts insidemy mind When the darkness comes, you're my light, baby My light, baby, my light when it's dark, yeah I'm too high, baby, too high, baby 'Cause I know right now, that I lost it (Hey)    It's way too late to save our souls, babe, yeah (Oh, oh, yeah) It's way too late, we're on our own (Baby, on my own) I made mistakes, I did you wrong, babe, yeah (Oh, oh, yeah) It's way too late to save my    I can't trust (I can't trust) where I live (Where I live) anymore (Anymore, anymore, anymore) Sources say (Sources say) that we're done (That we're done), how would they know? (They know, 'cause they know, 'cause they know) We're in Hell, it's disguised as a paradise with flashing lights I just wanna believe there's so much more (Hey, hey, hey)    It's way too late to save our souls, baby (Oh, oh, yeah) It's way too late, we're on our own (Baby, on my own) I made mistakes, I did you wrong, baby (Oh, oh, yeah) It's way too late to save my    And, ooh, I tell myself I should get over you I said ooh, I know I'd rather be all over you I'm trying, trying, but I, I just want your body Riding slow on top of me, girl, on top of me I want you, babe, ooh ooh    It's way too late (Late) to save our souls, babe, yeah (Souls, baby, oh, oh, yeah) It's way too late, we're on our own (Baby, on my own) I made mistakes (Mistakes), I did you wrong, baby (Oh, baby, oh, oh, yeah) It's way too late to save my, my  No, yeah Oh, yeah Oh, yeah Yeah, uh    You try with me so many times, yeah You're cryin' out behindthesmiles And I cansee right through the lies Yeah, yeah,yeah, yeah, yeah And what we had is dead inside, yeah You're actin' like it's still alive, ayy And you still wanna make it right, yeah I know    But I've been the hardest to love You're tryna let me go, yeah And I can see it, I can see it I've been the hardest to love It's hard to let me go, yeah And I can feel it, I can feel it (Oh, yeah)    I don't feel it anymore (Yeah) The house I bought is not a home (No) Together we are so alone Yeah, yeah, yeah, yeah, yeah (Oh) Don't regret the day we met (We met) Don't forget that time we spent (We spent) Forget that we're in different beds I know    'Cause I've been the hardest to love You're tryna let me go, yeah And I can see it, I can see it I've been the hardest to love It's hard to let me go, yeah And I can feel it, I can feel it    I can't, can't believe you want me After all the heartbreaks, after all I've done, oh oh oh (Oh, oh, oh) No, I can't, can't believe you trust me (Trust me) After all the rough days, you still call me up (Me up, oh oh oh)    'Cause I've been the hardest to love You're tryna let me go, (Tryna let me go) yeah And I can see it, I can see it (I can see it) I've been the hardest to love (Love, baby) You're tryna let me go, yeah And I can feel it, I can feel it     When I saw the signs, I shoulda let you go (Yeah, yeah) But I kept youbesideme And if Iheld you back, at least Iheld you close (Yeah) Should have known you were lonely    I knowthingswillnever be thesame Time we lostwill never be replaced I'm the reason you forgot to love    So don't be scared to live again Be scared to live again No, don't be scared to live again Be scared to live again    You always miss the chance to fall for someone else (Uh, uh) 'Cause your heart only knows me They try to win your love, but there was nothing left (Uh) They just made you feel lonely (Hey)    I am not the man I used to be Did some things I couldn't let you see Refuse to be the one who taints your heart    So don't be scared to live again Be scared to live again No, don't be scared to live again Be scared to live again (Hey)    I hope you know that, I hope you know that I've been praying that you find yourself I hope you know that, I hope you know that We fell apart, right from the start    I should have made you my only When it's said and done    So don't be scared to live again Be scared to live again I said don't be scared to live again Be scared to live again (Oh)    I hope you know that, I hope you know that I've been praying that you find yourself I hope you know that, I hope you know that We fell apart, right from the start  I used to pray when I was sixteen If I didn't make it, then I'd probablymakemy wrist bleed Notto mislead, turn my nightmares intobig dreams Whole squad mobbin' even though we only six deep I was singing notes while my niggas played with six keys Walking in the snow before I ever made my wrist freeze I was blowing smoke, had me dizzy like Gillespie Niggas had no homes, we were living in the dead streets You couldn't find me like I'm Hoffa Cover girls jumping out the page like they pop ups Spending all my money on these niggas that I brought up Taking care of families for my brothers when they locked up And I had nothing to believe in Double cup leanin' Couldn't even breathe and For that money I was fiending Cali was the mission but now a nigga leaving    Leaving, leaving into the night Now a nigga leaving, leaving Leaving into the night, oh    She like my futuristic sounds in the new spaceship Futuristic sex, give her Philip K dick She never need a man, she what a man need So I keep on falling for her daily We was at Coachella going brazy Stack a couple M's like I was Shady Now I'm in Tribeca like I'm Jay Z Rockin' Sorayama like he pay me I just signed a new deal with Mercedes Got me movin' dirty like I'm Swayze All my diamonds dancing like they Swayze All my diamonds hitting like they Swae Lee Jet so big got a business and a coach Always livin' on the road, rockin' Louis  la mode, nigga And for that money, I been fiending Cali was the mission, but now a nigga leaving    Leaving, leaving into the night Now a nigga leaving, leaving Leaving into the night, oh    Twenty mill' mansion, never lived in it Zero edge pool, never dipped in it Superstar neighbor in my business Paparazzi tryna catch me slippin' and Going on tour is my vacation Every month another accusation Only thing I'm phobic of is failing I was never blessed with any patience    So a nigga leaving, leaving, leaving into the night Now a nigga leaving, leaving Leaving into the night, oh  You pillow talk to me about the men who try to get in between us Theybuyyou bags andjewelry, yeah They think your kindness isso weak No, you don't give it up so easy, baby Butyoujustwanted my attention Youjust wanted myaffection You got me tattooed on your mind You just want me all the time We'll figure out our shit and find a way (Oh, yeah) When you say that you need space, I give you space (You space) Girl, when you're ready, you know where I stay When it comes to all these hoes, I'll never chase But this world is such a, such an evil place Man, these hoes will always find a way 'Cause when I'm on the liquor, I go crazy And for that pussy, you know I'm a slave, yeah    Well this place is never what it seems Take me out LA Take me out of LA This place will be the end of me Take me out LA Take me out of LA, yeah    Yeah I'm in the Spyder Porsche cruisin' down the street Black on black venom covered seats Keanu Reeves, the way a nigga speed Diamond cross hangin' off of me I'm fighting for my soul, Constantine And it's slowly burning, it was never cheap If you seen what I seen, you wouldn't sleep I can't sleep 'Cause I got everything I wanted Got the money, got the cars, got the ceiling with the stars Got everything I wanted But I'd be nothing without you Gave you everything you wanted Gave you power, gave you life, gave you space so you can shine Gave you everything you wanted But none of that matters to you, oh oh    This place (This place) is never what it seems Take me out LA Take me out of LA (Oh, out LA, oh) This place will be the end of me Take me out LA Take me out of LA, yeah    Woah, no, oh, no, no No, no, no, no, no, ooh woah Oh ah, no, no, no, no, woah woah Oh, no, oh Hey She pulled up to the studio Nobody's watching She closed the door and then she locked it For me, for me We had sex in the studio Nobody walked in I cut my verse and then she popped it For me, for me LA girls all look the same I can't recognize The same work done on they face I don't criticize She a cold hearted bitch with no shame But her throat too fire She got Chrome Hearts hangin' from her neck And them shits going wild When she ride, she hold tight She gon' ride 'til sweat fall down her spine She's all mine for the night She's all mine until he calls her line    She pulled up to the studio Nobody's watching She closed the door and then she locked it For me, for me We had sex in the studio Nobody walked in I cut my verse and then she popped it For me, for me Oh oh, oh oh  Young Metro, young Metro, young Metro (Sheesh) Ayy (Ayy) Young Metro, young Metro    Never need a bitch, I'mwhata bitch need(Bitch need) Tryna find the one thatcan fix me I've been dodgin' death in the six speed Amphetamine got my stummy feelin' sickly Yeah, I want it all now I've been runnin' through the pussy, need a dog pound Hundred models gettin' faded in the compound Tryna love me, but they never get a pulse down    Why? 'Cause I'm heartless And I'm back to my ways 'cause I'm heartless All this money and this pain got me heartless Low life for life 'cause I'm heartless Said I'm heartless Tryna be a better man, but I'm heartless Never be a weddin' plan for the heartless Low life for life 'cause I'm heartless    Said I'm heartless So much pussy, it be fallin' out the pocket Metro Boomin turn this ho into a moshpit Tesla pill got me flyin' like a cockpit Yeah, I got her watchin' Call me up, turn that pussy to a faucet Duffle bags full of drugs and a rocket Stix drunk, but he never miss a target Photoshoots, I'm a star now (Star) I'm talkin' Time, Rolling Stone, and Bazaar now (Bazaar now) Sellin' dreams to these girls with their guard down (What?) Seven years, I've been swimmin' with the sharks now    Why? 'Cause I'm heartless And I'm back to my ways 'cause I'm heartless All this money and this pain got me heartless Low life for life 'cause I'm heartless Said I'm heartless Tryna be a better man, but I'm heartless Never be a weddin' plan for the heartless Low life for life 'cause I'm heartless    I lost my heart and my mind I try to always do right I thought I lost you this time You just came back in my life You never gave up on me (Why don't you?) I'll never know what you see (Why won't you?) I don't do well when alone (Oh yeah) You hear it clear in my tone    'Cause I'm heartless (Ooh) And I'm back to my ways 'cause I'm heartless All this money and this pain got me heartless Low life for life 'cause I'm heartless Said I'm heartless Tryna be a better man, but I'm heartless Never be a weddin' plan for the heartless Low life for life 'cause I'm heartless  No, no, no, no, no no Ooh No, no, no, no, no no Ooh    Light a blunt up with the flame Putthatcocaine on aplate Molly with the purple rain 'Cause Ilost my faith So I cut away the pain, uh Got itswimminginmy veins Now mymind is outtaplace, yeah, uh 'Cause I lost my faith    And I feel everything I feel everything from my body to my soul No, no Well, I feel everything When I'm coming down is the most I feel alone No, no    I've been sober for a year, now it's time for me To go back to my old ways, don't you cry for me Thought I'd be a better man, but I lied to me and to you    I take half a Xan' and I still stay awake All my demons wanna pull me to my grave I choose Vegas if they offer Heaven's gate I tried to love, but you know I'd never stay I'd never stay But if I OD, I want you to OD right beside me I want you to follow right behind me I want you to hold me while I'm smiling While I'm dying And if you know me When I go missing, you know where to find me Driving down the boulevard is blinding Always blinded by the desert lights and I'm alive when    I feel everything I feel everything from my body to my soul No, no Girl, I feel everything When I'm coming down is the most I feel alone No, no    I lost my faith I'm losing my religion every day Time hasn't been kind to me, I pray When I look inside the mirror and see someone I love Oh, someone I love Faith I'm losing my religion every day Time hasn't been kind to me, I pray When I look inside the mirror and see someone I love Oh, someone I love    I ended up in the back of a flashing car With the city shining on my face The lights are blinding me again I ended up in the back of a flashing car With the city shining on my face The lights are blinding me again I ended up (I ended up), in the back of a flashing car (Back of a flashing car)  Yeah    I've been tryna call I've been on my own for long enough Maybe you can show mehowto love, maybe I'mgoing through withdrawals You don't even haveto do too much You can turn me on with just a touch, baby    I look around and Sin City's cold and empty (Oh) No one's around to judge me (Oh) I can't see clearly when you're gone    I said, ooh, I'm blinded by the lights No, I can't sleep until I feel your touch I said, ooh, I'm drowning in the night Oh, when I'm like this, you're the one I trust Hey, hey, hey    I'm running out of time 'Cause I can see the sun light up the sky So I hit the road in overdrive, baby, oh    The city's cold and empty (Oh) No one's around to judge me (Oh) I can't see clearly when you're gone    I said, ooh, I'm blinded by the lights No, I can't sleep until I feel your touch I said, ooh, I'm drowning in the night Oh, when I'm like this, you're the one I trust    I'm just calling back to let you know (Back to let you know) I could never say it on the phone (Say it on the phone) Will never let you go this time (Ooh)    I said, ooh, I'm blinded by the lights No, I can't sleep until I feel your touch Hey, hey, hey Hey, hey, hey    I said, ooh, I'm blinded by the lights No, I can't sleep until I feel your touch  I just pretend that I'm in the dark I don't regret 'cause my heart can't takealoss I'd rather beso oblivious I'd rather be with you    Whenit's said, when it's done, yeah I don't ever wanna know I can tell what you done, yeah When I look at you    In your eyes I see there's something burning inside you Oh, inside you In your eyes I know it hurts to smile, but you try to Oh, you try to You always try to hide the pain You always know just what to say I always look the other way I'm blind, I'm blind In your eyes You lie, but I don't let it define you Oh, define you    I tried to find love In someone else too many times But I hope you know I mean it (Mean it) When I tell you you're the one that was on my mind, oh    When it's said, when it's done, yeah I would never let you know (Let you know) I'm ashamed of what I've done, yeah When I look at you    In your eyes (Your eyes) I see there's something burning inside you (Inside you) Oh, inside you (Oh, inside you) In your eyes I know it hurts to smile, but you try to (But you try to) Oh, you try to (You try to) You always try to hide the pain (Oh, oh) You always know just what to say (Oh, dear) I always look the other way I'm blind, I'm blind In your eyes You lie, but I don't let it define you (Hey) Oh, define you    In your eyes I see there's something burning inside you Oh, inside you You always try to hide the pain You always know just what to say I always look the other way I'm blind, I'm blind In your eyes You lie, but I don't let it define you Oh, define you  Ooh Na na, yeah    I saw you dancing in a crowded room You look so happy when I'm not with you But then you saw me, caught you by surprise A single teardrop falling from your eye    I don't know why I run away I'll make you cry when I run away    You could've asked me why I broke your heart You could've told me that you fell apart But you walked past me like I wasn't there And just pretended like you didn't care    I don't know why I run away I'll make you cry when I run away    Take me back 'cause I wanna stay Save your tears for another Save your tears for another day Save your tears for another day    So, I made you think that I would always stay I said some things that I should never say Yeah, I broke your heart like someone did to mine And now you won't love me for a second time    I don't know why I run away, oh, girl Said I make you cry when I run away    Girl, take me back 'cause I wanna stay Save your tears for another I realize that I'm much too late And you deserve someone better Save your tears for another day (Ooh, yeah) Save your tears for another day (Yeah)    I don't know why I run away I'll make you cry when I run away    Save your tears for another day, ooh, girl (Ah) I said save your tears for another day (Ah)    Save your tears for another day (Ah) Save your tears for another day (Ah)  You don't love him, you don't love him You don't love him if you're thinking ofme Youdon't love him,you're just fucking You're just fucking, itmeans nothing to me You don't love him, you don't lovehim Youdon'tlove him ifyou're thinking ofme You don't love him, you're just fucking You're just fucking, it means nothing to me, yeah    It's been too long, you changed up over time Why you, why you gonna even try to hide? It's natural to find someone to treat you right But it ain't right if you fuck him out of spite You don't have to cry, girl, let me wipe your eyes Your eyes, your eyes, your eyes I promise you will always be mine Oh oh, just repeat after me    You don't love him, you don't love him You don't love him if you're thinking of me (It's all right) You don't love him, you're just fucking You're just fucking, you're thinking of me You don't love him, you don't love him You don't love him if you're thinking of me You don't love him, you're just fucking You're just fucking, it means nothing to me  Thought I almost died in my dream again (Baby, almost died) Fightin' for my life, Icouldn'tbreathe again I'm fallin'in too deep (Oh, oh) Without you,I can't sleep (Fallin' in) 'Cause my heart belongs to you I'll risk it all for you I want you next to me This time, I'll never leave I wanna share babies Protection, we won't need Your body next to me Is just a memory I'm fallin' in too deep, oh Without you, I can't sleep Insomnia relieve, oh Talk to me, without you, I can't breathe    My darkest hours Girl, I felt so alone inside of this crowded room Different girls on the floor, distractin' my thoughts of you I turned into the man I used to be, to be Put myself to sleep Just so I can get closer to you inside my dreams Didn't wanna wake up 'less you were beside me I just wanted to call you and say, and say    Oh, baby Where are you now when I need you most? I'd give it all just to hold you close Sorry that I broke your heart, your heart    Never comin' down, uh I was running away from facin' reality, uh Wastin' all of my time out living my fantasies Spendin' money to compensate, compensate 'Cause I want you, baby, uh I be livin' in heaven when I'm inside of you It was simply a blessing wakin' beside you I'll never let you down again, again    Oh, baby Where are you now when I need you most? I'd give it all just to hold you close Sorry that I broke your heart, your heart I said, baby I'll treat you better than I did before I'll hold you down and not let you go This time, I won't break your heart, your heart, yeah    I know it's all my fault Made you put down your guard I know I made you fall Then said you were wrong for me I lied to you, I lied to you, I lied to you (To you) Can't hide the truth, I'd stay with her in spite of you You did some things that you regret, still ride for you 'Cause this house is not a home    Without my baby Where are you now when I need you most? I gave it all just to hold you close Sorry that I broke your heart, your heart And I said, baby I'll treat you better than I did before I'll hold you down and not let you go This time, I won't break your heart, your heart, no  I can't move, I'm so paralyzed I'm so paralyzed I can't explain why I'm terrified I'm so terrified    Well,Idon't wanna touchthe sky no more I just wannafeel the ground when I'm coming down It's been way too long And I don't even wanna get high no more I just want it out of my life Out of my life, out    I wanna cut you outta my dreams 'Til I'm bleeding out 'Til I'm bleeding I wanna cut you outta my mind 'Til I'm bleeding out 'Til I'm bleeding I wanna cut you outta my dreams Woah, I'm bleeding out Girl, I'm bleeding I wanna cut you outta my mind 'Cause I'm bleeding out Oh, I'm bleeding Girl, I'm bleeding    I keep telling myself I don't need it I keep telling myself I don't need it anymore I keep telling myself I don't need it anymore Need it anymore\"})"
      ]
     },
     "execution_count": 20,
     "metadata": {},
     "output_type": "execute_result"
    }
   ],
   "source": [
    "lyrics_dict"
   ]
  },
  {
   "cell_type": "code",
   "execution_count": 23,
   "metadata": {},
   "outputs": [
    {
     "data": {
      "text/plain": [
       "defaultdict(list,\n",
       "            {'album_id': '4yP0hdKOZPNshxUOjY0cZj',\n",
       "             'genres': ['canadian contemporary r&b', 'canadian pop', 'pop']})"
      ]
     },
     "execution_count": 23,
     "metadata": {},
     "output_type": "execute_result"
    }
   ],
   "source": [
    "genres_dict"
   ]
  },
  {
   "cell_type": "code",
   "execution_count": 24,
   "metadata": {},
   "outputs": [
    {
     "data": {
      "text/plain": [
       "defaultdict(list,\n",
       "            {'album_id': '4yP0hdKOZPNshxUOjY0cZj',\n",
       "             'danceability': 0.5012857142857142,\n",
       "             'energy': 0.6405000000000001,\n",
       "             'key': 3.2857142857142856,\n",
       "             'loudness': -7.085928571428572,\n",
       "             'mode': 0.42857142857142855,\n",
       "             'speechiness': 0.06860714285714285,\n",
       "             'acousticness': 0.12228642857142857,\n",
       "             'instrumentalness': 0.011832464999999999,\n",
       "             'liveness': 0.1935642857142857,\n",
       "             'valence': 0.25056428571428574,\n",
       "             'tempo': 121.55292857142857,\n",
       "             'duration_ms': 241255.2857142857,\n",
       "             'time_signature': 3.9285714285714284})"
      ]
     },
     "execution_count": 24,
     "metadata": {},
     "output_type": "execute_result"
    }
   ],
   "source": [
    "features_dict"
   ]
  },
  {
   "cell_type": "code",
   "execution_count": 25,
   "metadata": {},
   "outputs": [
    {
     "data": {
      "text/html": [
       "<div>\n",
       "<style scoped>\n",
       "    .dataframe tbody tr th:only-of-type {\n",
       "        vertical-align: middle;\n",
       "    }\n",
       "\n",
       "    .dataframe tbody tr th {\n",
       "        vertical-align: top;\n",
       "    }\n",
       "\n",
       "    .dataframe thead th {\n",
       "        text-align: right;\n",
       "    }\n",
       "</style>\n",
       "<table border=\"1\" class=\"dataframe\">\n",
       "  <thead>\n",
       "    <tr style=\"text-align: right;\">\n",
       "      <th></th>\n",
       "      <th>artist</th>\n",
       "      <th>artist_id</th>\n",
       "      <th>album</th>\n",
       "      <th>album_type</th>\n",
       "      <th>album_id</th>\n",
       "      <th>album_label</th>\n",
       "      <th>upc_code</th>\n",
       "      <th>album_popularity</th>\n",
       "      <th>release_date</th>\n",
       "      <th>release_prec</th>\n",
       "      <th>genres</th>\n",
       "      <th>album_release</th>\n",
       "    </tr>\n",
       "  </thead>\n",
       "  <tbody>\n",
       "    <tr>\n",
       "      <th>0</th>\n",
       "      <td>The Weeknd</td>\n",
       "      <td>1Xyo4u8uXC1ZmMpatF05PJ</td>\n",
       "      <td>After Hours</td>\n",
       "      <td>album</td>\n",
       "      <td>4yP0hdKOZPNshxUOjY0cZj</td>\n",
       "      <td>Republic Records</td>\n",
       "      <td>00602508924224</td>\n",
       "      <td>96</td>\n",
       "      <td>2020-03-20</td>\n",
       "      <td>day</td>\n",
       "      <td>[]</td>\n",
       "      <td>After Hours by The Weeknd</td>\n",
       "    </tr>\n",
       "  </tbody>\n",
       "</table>\n",
       "</div>"
      ],
      "text/plain": [
       "       artist               artist_id        album album_type  \\\n",
       "0  The Weeknd  1Xyo4u8uXC1ZmMpatF05PJ  After Hours      album   \n",
       "\n",
       "                 album_id       album_label        upc_code  album_popularity  \\\n",
       "0  4yP0hdKOZPNshxUOjY0cZj  Republic Records  00602508924224                96   \n",
       "\n",
       "  release_date release_prec genres              album_release  \n",
       "0   2020-03-20          day     []  After Hours by The Weeknd  "
      ]
     },
     "execution_count": 25,
     "metadata": {},
     "output_type": "execute_result"
    }
   ],
   "source": [
    "album_df = pd.DataFrame(album_dict)\n",
    "album_df"
   ]
  },
  {
   "cell_type": "code",
   "execution_count": 26,
   "metadata": {},
   "outputs": [
    {
     "data": {
      "text/html": [
       "<div>\n",
       "<style scoped>\n",
       "    .dataframe tbody tr th:only-of-type {\n",
       "        vertical-align: middle;\n",
       "    }\n",
       "\n",
       "    .dataframe tbody tr th {\n",
       "        vertical-align: top;\n",
       "    }\n",
       "\n",
       "    .dataframe thead th {\n",
       "        text-align: right;\n",
       "    }\n",
       "</style>\n",
       "<table border=\"1\" class=\"dataframe\">\n",
       "  <thead>\n",
       "    <tr style=\"text-align: right;\">\n",
       "      <th></th>\n",
       "      <th>album_id</th>\n",
       "      <th>lyrics</th>\n",
       "    </tr>\n",
       "  </thead>\n",
       "  <tbody>\n",
       "    <tr>\n",
       "      <th>0</th>\n",
       "      <td>4yP0hdKOZPNshxUOjY0cZj</td>\n",
       "      <td>Take off my disguise I'm living someone else...</td>\n",
       "    </tr>\n",
       "  </tbody>\n",
       "</table>\n",
       "</div>"
      ],
      "text/plain": [
       "                 album_id                                             lyrics\n",
       "0  4yP0hdKOZPNshxUOjY0cZj    Take off my disguise I'm living someone else..."
      ]
     },
     "execution_count": 26,
     "metadata": {},
     "output_type": "execute_result"
    }
   ],
   "source": [
    "lyric_df = pd.DataFrame(lyrics_dict, index=[0])\n",
    "lyric_df"
   ]
  },
  {
   "cell_type": "code",
   "execution_count": 27,
   "metadata": {},
   "outputs": [
    {
     "data": {
      "text/html": [
       "<div>\n",
       "<style scoped>\n",
       "    .dataframe tbody tr th:only-of-type {\n",
       "        vertical-align: middle;\n",
       "    }\n",
       "\n",
       "    .dataframe tbody tr th {\n",
       "        vertical-align: top;\n",
       "    }\n",
       "\n",
       "    .dataframe thead th {\n",
       "        text-align: right;\n",
       "    }\n",
       "</style>\n",
       "<table border=\"1\" class=\"dataframe\">\n",
       "  <thead>\n",
       "    <tr style=\"text-align: right;\">\n",
       "      <th></th>\n",
       "      <th>album_id</th>\n",
       "      <th>genres</th>\n",
       "    </tr>\n",
       "  </thead>\n",
       "  <tbody>\n",
       "    <tr>\n",
       "      <th>0</th>\n",
       "      <td>4yP0hdKOZPNshxUOjY0cZj</td>\n",
       "      <td>canadian contemporary r&amp;b</td>\n",
       "    </tr>\n",
       "    <tr>\n",
       "      <th>1</th>\n",
       "      <td>4yP0hdKOZPNshxUOjY0cZj</td>\n",
       "      <td>canadian pop</td>\n",
       "    </tr>\n",
       "    <tr>\n",
       "      <th>2</th>\n",
       "      <td>4yP0hdKOZPNshxUOjY0cZj</td>\n",
       "      <td>pop</td>\n",
       "    </tr>\n",
       "  </tbody>\n",
       "</table>\n",
       "</div>"
      ],
      "text/plain": [
       "                 album_id                     genres\n",
       "0  4yP0hdKOZPNshxUOjY0cZj  canadian contemporary r&b\n",
       "1  4yP0hdKOZPNshxUOjY0cZj               canadian pop\n",
       "2  4yP0hdKOZPNshxUOjY0cZj                        pop"
      ]
     },
     "execution_count": 27,
     "metadata": {},
     "output_type": "execute_result"
    }
   ],
   "source": [
    "genres_df = pd.DataFrame(genres_dict)\n",
    "genres_df"
   ]
  },
  {
   "cell_type": "code",
   "execution_count": 28,
   "metadata": {},
   "outputs": [
    {
     "data": {
      "text/html": [
       "<div>\n",
       "<style scoped>\n",
       "    .dataframe tbody tr th:only-of-type {\n",
       "        vertical-align: middle;\n",
       "    }\n",
       "\n",
       "    .dataframe tbody tr th {\n",
       "        vertical-align: top;\n",
       "    }\n",
       "\n",
       "    .dataframe thead th {\n",
       "        text-align: right;\n",
       "    }\n",
       "</style>\n",
       "<table border=\"1\" class=\"dataframe\">\n",
       "  <thead>\n",
       "    <tr style=\"text-align: right;\">\n",
       "      <th></th>\n",
       "      <th>album_id</th>\n",
       "      <th>danceability</th>\n",
       "      <th>energy</th>\n",
       "      <th>key</th>\n",
       "      <th>loudness</th>\n",
       "      <th>mode</th>\n",
       "      <th>speechiness</th>\n",
       "      <th>acousticness</th>\n",
       "      <th>instrumentalness</th>\n",
       "      <th>liveness</th>\n",
       "      <th>valence</th>\n",
       "      <th>tempo</th>\n",
       "      <th>duration_ms</th>\n",
       "      <th>time_signature</th>\n",
       "    </tr>\n",
       "  </thead>\n",
       "  <tbody>\n",
       "    <tr>\n",
       "      <th>0</th>\n",
       "      <td>4yP0hdKOZPNshxUOjY0cZj</td>\n",
       "      <td>0.501286</td>\n",
       "      <td>0.6405</td>\n",
       "      <td>3.285714</td>\n",
       "      <td>-7.085929</td>\n",
       "      <td>0.428571</td>\n",
       "      <td>0.068607</td>\n",
       "      <td>0.122286</td>\n",
       "      <td>0.011832</td>\n",
       "      <td>0.193564</td>\n",
       "      <td>0.250564</td>\n",
       "      <td>121.552929</td>\n",
       "      <td>241255.285714</td>\n",
       "      <td>3.928571</td>\n",
       "    </tr>\n",
       "  </tbody>\n",
       "</table>\n",
       "</div>"
      ],
      "text/plain": [
       "                 album_id  danceability  energy       key  loudness      mode  \\\n",
       "0  4yP0hdKOZPNshxUOjY0cZj      0.501286  0.6405  3.285714 -7.085929  0.428571   \n",
       "\n",
       "   speechiness  acousticness  instrumentalness  liveness   valence  \\\n",
       "0     0.068607      0.122286          0.011832  0.193564  0.250564   \n",
       "\n",
       "        tempo    duration_ms  time_signature  \n",
       "0  121.552929  241255.285714        3.928571  "
      ]
     },
     "execution_count": 28,
     "metadata": {},
     "output_type": "execute_result"
    }
   ],
   "source": [
    "feat_df = pd.DataFrame(features_dict, index=[0])\n",
    "feat_df"
   ]
  },
  {
   "cell_type": "markdown",
   "metadata": {},
   "source": [
    "# create list of album ids (+ old 511 new) shoot for 100k"
   ]
  },
  {
   "cell_type": "code",
   "execution_count": null,
   "metadata": {},
   "outputs": [],
   "source": [
    "from pymongo import MongoClient\n",
    "\n",
    "client = MongoClient('localhost', 27017)\n",
    "db = client['fraud_analysis']\n",
    "db['predictions']\n",
    "db['new']\n",
    "coll = db['data_raw']\n",
    "\n",
    "path_to_json = '../data/data.json'\n",
    "\n",
    "with open(path_to_json) as f:\n",
    "    file_data = json.load(f)\n",
    "\n",
    "coll.insert_many(file_data)\n",
    "\n",
    "client.close()"
   ]
  },
  {
   "cell_type": "code",
   "execution_count": null,
   "metadata": {},
   "outputs": [],
   "source": [
    "client = MongoClient('localhost', 27017)\n",
    "db = client['album_info']\n",
    "db['album_id_master']\n",
    "db['albums']\n",
    "db['lyrics']\n",
    "db['genres']\n",
    "db['feat_df']\n",
    "master_coll = db['album_master_id']\n",
    "album_coll = db['albums']\n",
    "lyric_coll = db['lyrics']\n",
    "genre_coll = db['genres']\n",
    "feat_coll = db['feat_df']\n"
   ]
  },
  {
   "cell_type": "code",
   "execution_count": null,
   "metadata": {},
   "outputs": [],
   "source": [
    "'''dicts for mongo'''\n",
    "album_coll.insert_one(album_dict)"
   ]
  },
  {
   "cell_type": "code",
   "execution_count": null,
   "metadata": {},
   "outputs": [],
   "source": [
    "lyric_coll.insert_one(lyrics_dict)"
   ]
  },
  {
   "cell_type": "code",
   "execution_count": null,
   "metadata": {},
   "outputs": [],
   "source": [
    "genre_coll.insert_one(genres_dict)"
   ]
  },
  {
   "cell_type": "code",
   "execution_count": null,
   "metadata": {},
   "outputs": [],
   "source": [
    "feat_coll.insert_one(features_dict)"
   ]
  },
  {
   "cell_type": "markdown",
   "metadata": {},
   "source": [
    "# automate process"
   ]
  },
  {
   "cell_type": "code",
   "execution_count": 39,
   "metadata": {},
   "outputs": [],
   "source": [
    "plucked_album_ids = []\n",
    "MASTER_IDS = []\n",
    "dfs = pickle.load(open('dfs_w_lyrics.pkl', 'rb'))\n",
    "df = pd.concat(dfs)\n",
    "album_ids_baseline = df['album_id'].unique()"
   ]
  },
  {
   "cell_type": "code",
   "execution_count": null,
   "metadata": {},
   "outputs": [],
   "source": [
    "for _ in range(100):\n",
    "    album_query = sp.search(q=get_rand_word(gen), limit=limit, offset=get_rand_offset(), type=q_type)\n",
    "    plucked_album_ids.append(get_album_ids_from_query(album_query))"
   ]
  },
  {
   "cell_type": "markdown",
   "metadata": {},
   "source": [
    "## test unique album pulls"
   ]
  },
  {
   "cell_type": "code",
   "execution_count": 29,
   "metadata": {},
   "outputs": [],
   "source": [
    "plucked_album_ids = []\n",
    "BASELINE_ID_LIST = []\n",
    "dfs = pickle.load(open('dfs_w_lyrics.pkl', 'rb'))\n",
    "df = pd.concat(dfs)\n",
    "album_ids_baseline = df['album_id'].unique()"
   ]
  },
  {
   "cell_type": "code",
   "execution_count": null,
   "metadata": {},
   "outputs": [],
   "source": [
    "for album_ids in album_ids_baseline:\n",
    "    BASELINE_ID_LIST.append(album_ids)"
   ]
  },
  {
   "cell_type": "code",
   "execution_count": 30,
   "metadata": {},
   "outputs": [],
   "source": [
    "for _ in range(10000):\n",
    "    album_query = sp.search(q=get_rand_word(gen), limit=limit, offset=get_rand_offset(), type=q_type)\n",
    "    plucked_album_ids.append(get_album_ids_from_query(album_query))\n",
    "# flattened_album_ids = [id_ for sublist in plucked_album_ids for id_ in sublist]"
   ]
  },
  {
   "cell_type": "code",
   "execution_count": 31,
   "metadata": {},
   "outputs": [],
   "source": [
    "flattened_album_ids = [id_ for sublist in plucked_album_ids for id_ in sublist]\n",
    "unique_album_ids = pd.Series(flattened_album_ids).nunique()"
   ]
  },
  {
   "cell_type": "code",
   "execution_count": 32,
   "metadata": {},
   "outputs": [
    {
     "name": "stdout",
     "output_type": "stream",
     "text": [
      "435215 plucked, 156285 are unique\n"
     ]
    }
   ],
   "source": [
    "print(f'{len(flattened_album_ids)} plucked, {unique_album_ids} are unique')"
   ]
  },
  {
   "cell_type": "code",
   "execution_count": 46,
   "metadata": {},
   "outputs": [],
   "source": [
    "del flattened_album_ids\n",
    "del plucked_album_ids"
   ]
  },
  {
   "cell_type": "code",
   "execution_count": 33,
   "metadata": {},
   "outputs": [],
   "source": [
    "for id_ in MASTER_IDS:\n",
    "    if id_ not in set(flattened_album_ids):\n",
    "        flattened_album_ids.append(id_)"
   ]
  },
  {
   "cell_type": "code",
   "execution_count": 34,
   "metadata": {},
   "outputs": [
    {
     "name": "stdout",
     "output_type": "stream",
     "text": [
      "435215 plucked, 156285 are unique\n"
     ]
    }
   ],
   "source": [
    "unique_album_ids = pd.Series(flattened_album_ids).nunique()\n",
    "print(f'{len(flattened_album_ids)} plucked, {unique_album_ids} are unique')"
   ]
  },
  {
   "cell_type": "code",
   "execution_count": 38,
   "metadata": {},
   "outputs": [],
   "source": [
    "unique_ids = pd.Series(flattened_album_ids).unique()"
   ]
  },
  {
   "cell_type": "code",
   "execution_count": 39,
   "metadata": {},
   "outputs": [
    {
     "data": {
      "text/plain": [
       "array(['3RoG4xBbhThunES2bojEm7', '1awdBA8DLv6G5eBvdGxk8T',\n",
       "       '0XHpO9qTpqJJQwa2zFxAAE', '5bcobCRR5ovNoZWAp3iJgG',\n",
       "       '1coFYbyXU2dxO3lrUsbdIy', '6Zho4ar8UMxJLMDpWcLGto',\n",
       "       '07OjWJVHVzsbZ5ytXhj7ou', '6xBdoRdtUb2Wl23WkyJGQj',\n",
       "       '7nWW2h7SFTPQJgJX0h1IMA', '4hxJ8XzBPYGHeHRFhEd42y'], dtype=object)"
      ]
     },
     "execution_count": 39,
     "metadata": {},
     "output_type": "execute_result"
    }
   ],
   "source": [
    "unique_ids[:10]"
   ]
  },
  {
   "cell_type": "code",
   "execution_count": 42,
   "metadata": {},
   "outputs": [
    {
     "name": "stdout",
     "output_type": "stream",
     "text": [
      "total 24M\r\n",
      "drwxrwxr-x 5 ubuntu ubuntu 4.0K Sep 20 17:58 .\r\n",
      "drwxrwxr-x 3 ubuntu ubuntu 4.0K Sep 20 15:46 ..\r\n",
      "drwxrwxr-x 2 ubuntu ubuntu 4.0K Sep 20 16:00 .ipynb_checkpoints\r\n",
      "-rw-rw-r-- 1 ubuntu ubuntu 4.8M Sep 20 17:59 MASTER_ALBUM_IDS.pkl\r\n",
      "-rw-r--r-- 1 ubuntu ubuntu 4.2K Sep 20 14:05 album_scraper.py\r\n",
      "-rw-r--r-- 1 ubuntu ubuntu  131 Sep 20 14:05 api_keys.txt\r\n",
      "drwxrwxr-x 4 ubuntu ubuntu 4.0K Sep 12 02:28 bin\r\n",
      "-rw-r--r-- 1 ubuntu ubuntu  18M Sep 20 14:05 dfs_w_lyrics.pkl\r\n",
      "-rw-rw-r-- 1 ubuntu ubuntu  83K Sep 20 14:05 final_albums_df.pkl\r\n",
      "drwxrwxr-x 2 ubuntu ubuntu 4.0K Sep 11 21:51 logs\r\n",
      "-rw-rw-r-- 1 ubuntu ubuntu  16K Sep 20 14:05 my_personal_albums.ipynb\r\n",
      "-rw-r--r-- 1 ubuntu ubuntu 661K Sep 20 14:05 scripting_test.ipynb\r\n",
      "-rw-rw-r-- 1 ubuntu ubuntu  51K Sep 20 17:58 server_script_test.ipynb\r\n"
     ]
    }
   ],
   "source": [
    "!ls -ahl"
   ]
  },
  {
   "cell_type": "code",
   "execution_count": 40,
   "metadata": {},
   "outputs": [],
   "source": [
    "pickle.dump(unique_ids, open('MASTER_ALBUM_IDS.pkl', 'wb'))"
   ]
  },
  {
   "cell_type": "markdown",
   "metadata": {},
   "source": [
    "## test stop"
   ]
  },
  {
   "cell_type": "code",
   "execution_count": 10,
   "metadata": {},
   "outputs": [],
   "source": [
    "GROWING_IDs = MASTER_IDS.copy()"
   ]
  },
  {
   "cell_type": "code",
   "execution_count": 11,
   "metadata": {},
   "outputs": [
    {
     "data": {
      "text/plain": [
       "511"
      ]
     },
     "execution_count": 11,
     "metadata": {},
     "output_type": "execute_result"
    }
   ],
   "source": [
    "len(GROWING_IDs)"
   ]
  },
  {
   "cell_type": "code",
   "execution_count": 10,
   "metadata": {
    "scrolled": true
   },
   "outputs": [],
   "source": [
    "# move out of for loop and test single track\n",
    "# After Hours:\n",
    "# album_id = '4yP0hdKOZPNshxUOjY0cZj'\n",
    "# Alone Again:\n",
    "# track_id = '6b5P51m8xx2XA6U7sdNZ5E'\n",
    "\n",
    "for album_ids in flattened_album_ids:\n",
    "    if album_id not in MASTER_IDS:\n",
    "        GROWING_IDs.append(album(id))\n",
    "        continue\n",
    "        album_tracks = sp.album_tracks(album_id)\n",
    "        album = sp.album(album_id)\n",
    "        album_dict = album_builder(album, album_tracks)\n",
    "        album_df = pd.DataFrame(album_dict)\n",
    "        # TODO: load to mongo as dict\n",
    "    \n",
    "    #TODO: test album\n",
    "    for idx, row in album_df.iterrows():\n",
    "        lyric_instance = lyrics_builder(row.track_name,\n",
    "                                        row.lead_artist,\n",
    "                                        row.track_id,\n",
    "                                        client_access_token)\n",
    "        # TODO: load to mongodb as dict"
   ]
  }
 ],
 "metadata": {
  "kernelspec": {
   "display_name": "Python 3",
   "language": "python",
   "name": "python3"
  },
  "language_info": {
   "codemirror_mode": {
    "name": "ipython",
    "version": 3
   },
   "file_extension": ".py",
   "mimetype": "text/x-python",
   "name": "python",
   "nbconvert_exporter": "python",
   "pygments_lexer": "ipython3",
   "version": "3.7.6"
  }
 },
 "nbformat": 4,
 "nbformat_minor": 4
}
