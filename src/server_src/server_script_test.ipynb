{
 "cells": [
  {
   "cell_type": "code",
   "execution_count": 1,
   "metadata": {},
   "outputs": [],
   "source": [
    "import spotipy\n",
    "from spotipy.oauth2 import SpotifyClientCredentials\n",
    "from random import choice\n",
    "import pickle\n",
    "import pandas as pd\n",
    "from collections import defaultdict\n",
    "import lyricsgenius\n",
    "from essential_generators import DocumentGenerator\n",
    "import re\n",
    "import collections\n",
    "from pymongo import MongoClient"
   ]
  },
  {
   "cell_type": "code",
   "execution_count": 2,
   "metadata": {},
   "outputs": [],
   "source": [
    "def get_keys():\n",
    "    '''\n",
    "    Access API keys from external file and placed in a list. \n",
    "\n",
    "    Parameters\n",
    "    ----------\n",
    "    None:\n",
    "\n",
    "    Returns\n",
    "    ----------\n",
    "    API_KEYS : (list)\n",
    "        Return API keys used for connected to Spotify and Genius APIs.\n",
    "    '''\n",
    "    f = open('api_keys.txt', 'r')\n",
    "    API_KEYS = f.readlines()\n",
    "    \n",
    "    for idx, key in enumerate(API_KEYS):\n",
    "        API_KEYS[idx] = key.replace('\\n', '')\n",
    "        \n",
    "    return API_KEYS"
   ]
  },
  {
   "cell_type": "code",
   "execution_count": 3,
   "metadata": {},
   "outputs": [],
   "source": [
    "def get_album_ids_from_query(album_search):\n",
    "    '''\n",
    "    Pluck unique album IDs from API query, iterrates through paginated query, return list of album IDs from query.\n",
    "\n",
    "    Parameters\n",
    "    ----------\n",
    "    album_query: (dict)\n",
    "        Dictionary querried from Spotify API.\n",
    "\n",
    "    Returns\n",
    "    ----------\n",
    "    album_ids : (list)\n",
    "        Return album IDs from API query.\n",
    "    '''\n",
    "    album_info = album_search['albums']['items']\n",
    "    album_ids = []\n",
    "    \n",
    "    for n in range(len(album_info)):\n",
    "        album_ids.append(album_info[n]['id'])\n",
    "        \n",
    "        \n",
    "    return album_ids"
   ]
  },
  {
   "cell_type": "code",
   "execution_count": 4,
   "metadata": {},
   "outputs": [],
   "source": [
    "#random gen functions for api query\n",
    "def get_rand_offset():\n",
    "    return choice(range(10))\n",
    "def get_rand_word(gen):\n",
    "    return gen.word()"
   ]
  },
  {
   "cell_type": "code",
   "execution_count": 5,
   "metadata": {},
   "outputs": [],
   "source": [
    "def album_builder_test(album):\n",
    "    album_dict = defaultdict(list)\n",
    "    \n",
    "    album_dict['artist'].append(album['artists'][0]['name'])\n",
    "    album_dict['artist_id'].append(album['artists'][0]['id'])\n",
    "    album_dict['album'].append(album['name'])\n",
    "    album_dict['album_type'].append(album['album_type'])\n",
    "    album_dict['album_id'].append(album['id'])\n",
    "    album_dict['album_label'].append(album['label'])\n",
    "    album_dict['upc_code'].append(album['external_ids']['upc'])\n",
    "    album_dict['album_popularity'].append(album['popularity'])\n",
    "    album_dict['release_date'].append(album['release_date'])\n",
    "    album_dict['release_prec'].append(album['release_date_precision'])\n",
    "    album_dict['genres'].append(album['genres'])\n",
    "    album_dict['album_release'].append(album['name'] + ' by ' + album['artists'][0]['name'])\n",
    "\n",
    "    tracks, track_ids = [], [] \n",
    "    for track in album['tracks']['items']:\n",
    "        tracks.append(track['name'])\n",
    "        track_ids.append(track['id'])\n",
    "    \n",
    "    \n",
    "    return album_dict, tracks, track_ids"
   ]
  },
  {
   "cell_type": "code",
   "execution_count": 6,
   "metadata": {},
   "outputs": [],
   "source": [
    "def decode_lyrics(s):\n",
    "    s = s.encode('ascii', 'ignore')\n",
    "    s = s.decode()\n",
    "    s = s.replace('\\n', ' ')\n",
    "    s = s.replace('-', ' ')\n",
    "    s = re.sub(r'[\\[].*?[\\)\\]]', ' ', s)\n",
    "    \n",
    "    return s"
   ]
  },
  {
   "cell_type": "code",
   "execution_count": 7,
   "metadata": {},
   "outputs": [],
   "source": [
    "def lyrics_builder(song_names, artist, album_id, genius):\n",
    "    '''\n",
    "    songs: lst\n",
    "    artist: str\n",
    "    genius: api obj\n",
    "    '''\n",
    "    lyrics_dict = defaultdict(list)\n",
    "\n",
    "    lyrics_dict['album_id'] = album_id\n",
    "    album_lyrics = ''\n",
    "    for song in song_names:\n",
    "        song_search = genius.search_song(song, artist)\n",
    "        album_lyrics += song_search.lyrics\n",
    "        \n",
    "    lyrics_dict['lyrics'] = decode_lyrics(album_lyrics)\n",
    "    \n",
    "    return lyrics_dict"
   ]
  },
  {
   "cell_type": "code",
   "execution_count": 8,
   "metadata": {},
   "outputs": [],
   "source": [
    "def genres_builder(album_id, genres):\n",
    "    genre_dict = defaultdict(list)\n",
    "    \n",
    "    genre_dict['album_id'] = album_id\n",
    "    genre_dict['genres'] = genres\n",
    "    \n",
    "    return genre_dict"
   ]
  },
  {
   "cell_type": "code",
   "execution_count": 9,
   "metadata": {},
   "outputs": [],
   "source": [
    "def audio_features_builder(album_id, audio_features):\n",
    "    audio_feat_dict = defaultdict(list)\n",
    "    keys_to_pop = ['type', 'id', 'uri', 'track_href', 'analysis_url']\n",
    "    track_feats = ['danceability', 'energy', 'key', \n",
    "                    'loudness', 'mode', 'speechiness', 'acousticness',\n",
    "                   'instrumentalness', 'liveness', 'valence', 'tempo', 'duration_ms', 'time_signature']\n",
    "    \n",
    "    \n",
    "    audio_feat_dict['album_id'] = album_id\n",
    "    for track_info in audio_features:\n",
    "        [track_info.pop(key) for key in keys_to_pop]\n",
    "        \n",
    "    counter = collections.Counter()\n",
    "    \n",
    "    for d in audio_features:\n",
    "        counter.update(d)\n",
    "        \n",
    "    sum_ = dict(counter)\n",
    "    for k, v in sum_.items():\n",
    "        audio_feat_dict[k] = v / len(audio_features)\n",
    "\n",
    "    return audio_feat_dict"
   ]
  },
  {
   "cell_type": "markdown",
   "metadata": {},
   "source": [
    "# Test and build df"
   ]
  },
  {
   "cell_type": "code",
   "execution_count": 10,
   "metadata": {},
   "outputs": [],
   "source": [
    "# CONST and API instantiation\n",
    "\n",
    "client_id, client_secret, client_access_token = get_keys()\n",
    "gen = DocumentGenerator()\n",
    "q_type='album'\n",
    "limit = 50\n",
    "sp = spotipy.Spotify(auth_manager=SpotifyClientCredentials(client_id=client_id,\n",
    "                                                          client_secret=client_secret))\n",
    "genius = lyricsgenius.Genius(client_access_token=client_access_token)"
   ]
  },
  {
   "cell_type": "markdown",
   "metadata": {},
   "source": [
    "## ---Test single album ---\n",
    "### multi-single iterations"
   ]
  },
  {
   "cell_type": "code",
   "execution_count": 11,
   "metadata": {},
   "outputs": [],
   "source": [
    "test_id = '4yP0hdKOZPNshxUOjY0cZj'\n",
    "# album_tracks = sp.album_tracks(test_id)\n",
    "album = sp.album(test_id)"
   ]
  },
  {
   "cell_type": "code",
   "execution_count": 12,
   "metadata": {},
   "outputs": [],
   "source": [
    "album_dict, tracks, track_ids = album_builder_test(album)\n",
    "#to mongo, to genius + album_dict['artist'][0], to get features"
   ]
  },
  {
   "cell_type": "code",
   "execution_count": 13,
   "metadata": {},
   "outputs": [],
   "source": [
    "artist = album_dict['artist'][0]\n",
    "artist_id = album_dict['artist_id'][0]\n",
    "album_id = album_dict['album_id'][0]"
   ]
  },
  {
   "cell_type": "code",
   "execution_count": 14,
   "metadata": {},
   "outputs": [],
   "source": [
    "genres = sp.artist(artist_id)['genres']"
   ]
  },
  {
   "cell_type": "code",
   "execution_count": 15,
   "metadata": {},
   "outputs": [],
   "source": [
    "audio_features = sp.audio_features(track_ids)"
   ]
  },
  {
   "cell_type": "code",
   "execution_count": 16,
   "metadata": {},
   "outputs": [],
   "source": [
    "genres_dict = genres_builder(album_id, genres)"
   ]
  },
  {
   "cell_type": "code",
   "execution_count": 17,
   "metadata": {},
   "outputs": [
    {
     "name": "stdout",
     "output_type": "stream",
     "text": [
      "Searching for \"Alone Again\" by The Weeknd...\n",
      "Done.\n",
      "Searching for \"Too Late\" by The Weeknd...\n",
      "Done.\n",
      "Searching for \"Hardest To Love\" by The Weeknd...\n",
      "Done.\n",
      "Searching for \"Scared To Live\" by The Weeknd...\n",
      "Done.\n",
      "Searching for \"Snowchild\" by The Weeknd...\n",
      "Done.\n",
      "Searching for \"Escape From LA\" by The Weeknd...\n",
      "Done.\n",
      "Searching for \"Heartless\" by The Weeknd...\n",
      "Done.\n",
      "Searching for \"Faith\" by The Weeknd...\n",
      "Done.\n",
      "Searching for \"Blinding Lights\" by The Weeknd...\n",
      "Done.\n",
      "Searching for \"In Your Eyes\" by The Weeknd...\n",
      "Done.\n",
      "Searching for \"Save Your Tears\" by The Weeknd...\n",
      "Done.\n",
      "Searching for \"Repeat After Me (Interlude)\" by The Weeknd...\n",
      "Done.\n",
      "Searching for \"After Hours\" by The Weeknd...\n",
      "Done.\n",
      "Searching for \"Until I Bleed Out\" by The Weeknd...\n",
      "Done.\n"
     ]
    }
   ],
   "source": [
    "lyrics_dict = lyrics_builder(tracks, artist, album_id, genius)\n",
    "# to mongo"
   ]
  },
  {
   "cell_type": "code",
   "execution_count": 18,
   "metadata": {},
   "outputs": [],
   "source": [
    "features_dict = audio_features_builder(album_id, audio_features)"
   ]
  },
  {
   "cell_type": "markdown",
   "metadata": {},
   "source": [
    "## --- Test complete ---"
   ]
  },
  {
   "cell_type": "markdown",
   "metadata": {},
   "source": [
    "### Testing dictionaries for mongo db"
   ]
  },
  {
   "cell_type": "code",
   "execution_count": 25,
   "metadata": {},
   "outputs": [
    {
     "data": {
      "text/html": [
       "<div>\n",
       "<style scoped>\n",
       "    .dataframe tbody tr th:only-of-type {\n",
       "        vertical-align: middle;\n",
       "    }\n",
       "\n",
       "    .dataframe tbody tr th {\n",
       "        vertical-align: top;\n",
       "    }\n",
       "\n",
       "    .dataframe thead th {\n",
       "        text-align: right;\n",
       "    }\n",
       "</style>\n",
       "<table border=\"1\" class=\"dataframe\">\n",
       "  <thead>\n",
       "    <tr style=\"text-align: right;\">\n",
       "      <th></th>\n",
       "      <th>artist</th>\n",
       "      <th>artist_id</th>\n",
       "      <th>album</th>\n",
       "      <th>album_type</th>\n",
       "      <th>album_id</th>\n",
       "      <th>album_label</th>\n",
       "      <th>upc_code</th>\n",
       "      <th>album_popularity</th>\n",
       "      <th>release_date</th>\n",
       "      <th>release_prec</th>\n",
       "      <th>genres</th>\n",
       "      <th>album_release</th>\n",
       "    </tr>\n",
       "  </thead>\n",
       "  <tbody>\n",
       "    <tr>\n",
       "      <th>0</th>\n",
       "      <td>The Weeknd</td>\n",
       "      <td>1Xyo4u8uXC1ZmMpatF05PJ</td>\n",
       "      <td>After Hours</td>\n",
       "      <td>album</td>\n",
       "      <td>4yP0hdKOZPNshxUOjY0cZj</td>\n",
       "      <td>Republic Records</td>\n",
       "      <td>00602508924224</td>\n",
       "      <td>96</td>\n",
       "      <td>2020-03-20</td>\n",
       "      <td>day</td>\n",
       "      <td>[]</td>\n",
       "      <td>After Hours by The Weeknd</td>\n",
       "    </tr>\n",
       "  </tbody>\n",
       "</table>\n",
       "</div>"
      ],
      "text/plain": [
       "       artist               artist_id        album album_type  \\\n",
       "0  The Weeknd  1Xyo4u8uXC1ZmMpatF05PJ  After Hours      album   \n",
       "\n",
       "                 album_id       album_label        upc_code  album_popularity  \\\n",
       "0  4yP0hdKOZPNshxUOjY0cZj  Republic Records  00602508924224                96   \n",
       "\n",
       "  release_date release_prec genres              album_release  \n",
       "0   2020-03-20          day     []  After Hours by The Weeknd  "
      ]
     },
     "execution_count": 25,
     "metadata": {},
     "output_type": "execute_result"
    }
   ],
   "source": [
    "album_df = pd.DataFrame(album_dict)\n",
    "album_df"
   ]
  },
  {
   "cell_type": "code",
   "execution_count": 26,
   "metadata": {},
   "outputs": [
    {
     "data": {
      "text/html": [
       "<div>\n",
       "<style scoped>\n",
       "    .dataframe tbody tr th:only-of-type {\n",
       "        vertical-align: middle;\n",
       "    }\n",
       "\n",
       "    .dataframe tbody tr th {\n",
       "        vertical-align: top;\n",
       "    }\n",
       "\n",
       "    .dataframe thead th {\n",
       "        text-align: right;\n",
       "    }\n",
       "</style>\n",
       "<table border=\"1\" class=\"dataframe\">\n",
       "  <thead>\n",
       "    <tr style=\"text-align: right;\">\n",
       "      <th></th>\n",
       "      <th>album_id</th>\n",
       "      <th>lyrics</th>\n",
       "    </tr>\n",
       "  </thead>\n",
       "  <tbody>\n",
       "    <tr>\n",
       "      <th>0</th>\n",
       "      <td>4yP0hdKOZPNshxUOjY0cZj</td>\n",
       "      <td>Take off my disguise I'm living someone else...</td>\n",
       "    </tr>\n",
       "  </tbody>\n",
       "</table>\n",
       "</div>"
      ],
      "text/plain": [
       "                 album_id                                             lyrics\n",
       "0  4yP0hdKOZPNshxUOjY0cZj    Take off my disguise I'm living someone else..."
      ]
     },
     "execution_count": 26,
     "metadata": {},
     "output_type": "execute_result"
    }
   ],
   "source": [
    "lyric_df = pd.DataFrame(lyrics_dict, index=[0])\n",
    "lyric_df"
   ]
  },
  {
   "cell_type": "code",
   "execution_count": 27,
   "metadata": {},
   "outputs": [
    {
     "data": {
      "text/html": [
       "<div>\n",
       "<style scoped>\n",
       "    .dataframe tbody tr th:only-of-type {\n",
       "        vertical-align: middle;\n",
       "    }\n",
       "\n",
       "    .dataframe tbody tr th {\n",
       "        vertical-align: top;\n",
       "    }\n",
       "\n",
       "    .dataframe thead th {\n",
       "        text-align: right;\n",
       "    }\n",
       "</style>\n",
       "<table border=\"1\" class=\"dataframe\">\n",
       "  <thead>\n",
       "    <tr style=\"text-align: right;\">\n",
       "      <th></th>\n",
       "      <th>album_id</th>\n",
       "      <th>genres</th>\n",
       "    </tr>\n",
       "  </thead>\n",
       "  <tbody>\n",
       "    <tr>\n",
       "      <th>0</th>\n",
       "      <td>4yP0hdKOZPNshxUOjY0cZj</td>\n",
       "      <td>canadian contemporary r&amp;b</td>\n",
       "    </tr>\n",
       "    <tr>\n",
       "      <th>1</th>\n",
       "      <td>4yP0hdKOZPNshxUOjY0cZj</td>\n",
       "      <td>canadian pop</td>\n",
       "    </tr>\n",
       "    <tr>\n",
       "      <th>2</th>\n",
       "      <td>4yP0hdKOZPNshxUOjY0cZj</td>\n",
       "      <td>pop</td>\n",
       "    </tr>\n",
       "  </tbody>\n",
       "</table>\n",
       "</div>"
      ],
      "text/plain": [
       "                 album_id                     genres\n",
       "0  4yP0hdKOZPNshxUOjY0cZj  canadian contemporary r&b\n",
       "1  4yP0hdKOZPNshxUOjY0cZj               canadian pop\n",
       "2  4yP0hdKOZPNshxUOjY0cZj                        pop"
      ]
     },
     "execution_count": 27,
     "metadata": {},
     "output_type": "execute_result"
    }
   ],
   "source": [
    "genres_df = pd.DataFrame(genres_dict)\n",
    "genres_df"
   ]
  },
  {
   "cell_type": "code",
   "execution_count": 28,
   "metadata": {},
   "outputs": [
    {
     "data": {
      "text/html": [
       "<div>\n",
       "<style scoped>\n",
       "    .dataframe tbody tr th:only-of-type {\n",
       "        vertical-align: middle;\n",
       "    }\n",
       "\n",
       "    .dataframe tbody tr th {\n",
       "        vertical-align: top;\n",
       "    }\n",
       "\n",
       "    .dataframe thead th {\n",
       "        text-align: right;\n",
       "    }\n",
       "</style>\n",
       "<table border=\"1\" class=\"dataframe\">\n",
       "  <thead>\n",
       "    <tr style=\"text-align: right;\">\n",
       "      <th></th>\n",
       "      <th>album_id</th>\n",
       "      <th>danceability</th>\n",
       "      <th>energy</th>\n",
       "      <th>key</th>\n",
       "      <th>loudness</th>\n",
       "      <th>mode</th>\n",
       "      <th>speechiness</th>\n",
       "      <th>acousticness</th>\n",
       "      <th>instrumentalness</th>\n",
       "      <th>liveness</th>\n",
       "      <th>valence</th>\n",
       "      <th>tempo</th>\n",
       "      <th>duration_ms</th>\n",
       "      <th>time_signature</th>\n",
       "    </tr>\n",
       "  </thead>\n",
       "  <tbody>\n",
       "    <tr>\n",
       "      <th>0</th>\n",
       "      <td>4yP0hdKOZPNshxUOjY0cZj</td>\n",
       "      <td>0.501286</td>\n",
       "      <td>0.6405</td>\n",
       "      <td>3.285714</td>\n",
       "      <td>-7.085929</td>\n",
       "      <td>0.428571</td>\n",
       "      <td>0.068607</td>\n",
       "      <td>0.122286</td>\n",
       "      <td>0.011832</td>\n",
       "      <td>0.193564</td>\n",
       "      <td>0.250564</td>\n",
       "      <td>121.552929</td>\n",
       "      <td>241255.285714</td>\n",
       "      <td>3.928571</td>\n",
       "    </tr>\n",
       "  </tbody>\n",
       "</table>\n",
       "</div>"
      ],
      "text/plain": [
       "                 album_id  danceability  energy       key  loudness      mode  \\\n",
       "0  4yP0hdKOZPNshxUOjY0cZj      0.501286  0.6405  3.285714 -7.085929  0.428571   \n",
       "\n",
       "   speechiness  acousticness  instrumentalness  liveness   valence  \\\n",
       "0     0.068607      0.122286          0.011832  0.193564  0.250564   \n",
       "\n",
       "        tempo    duration_ms  time_signature  \n",
       "0  121.552929  241255.285714        3.928571  "
      ]
     },
     "execution_count": 28,
     "metadata": {},
     "output_type": "execute_result"
    }
   ],
   "source": [
    "feat_df = pd.DataFrame(features_dict, index=[0])\n",
    "feat_df"
   ]
  },
  {
   "cell_type": "markdown",
   "metadata": {},
   "source": [
    "# create list of album ids (+ old 511 new) shoot for 100k\n",
    "## have 150k+"
   ]
  },
  {
   "cell_type": "markdown",
   "metadata": {},
   "source": [
    "# DO NOT TEST -- TEST BELOW FROM SINGLE CELL"
   ]
  },
  {
   "cell_type": "code",
   "execution_count": 24,
   "metadata": {},
   "outputs": [],
   "source": [
    "client = MongoClient('localhost', 27017)\n",
    "db = client['album_info']\n",
    "db['album_id_master']\n",
    "db['albums']\n",
    "db['lyrics']\n",
    "db['genres']\n",
    "db['feat_df']\n",
    "master_coll = db['album_master_id']\n",
    "album_coll = db['albums']\n",
    "lyric_coll = db['lyrics']\n",
    "genre_coll = db['genres']\n",
    "feat_coll = db['feat_df']"
   ]
  },
  {
   "cell_type": "code",
   "execution_count": 25,
   "metadata": {},
   "outputs": [
    {
     "data": {
      "text/plain": [
       "<pymongo.results.InsertOneResult at 0x7f7bbb5dafa0>"
      ]
     },
     "execution_count": 25,
     "metadata": {},
     "output_type": "execute_result"
    }
   ],
   "source": [
    "'''dicts for mongo'''\n",
    "album_coll.insert_one(album_dict)"
   ]
  },
  {
   "cell_type": "code",
   "execution_count": 26,
   "metadata": {},
   "outputs": [
    {
     "data": {
      "text/plain": [
       "<pymongo.results.InsertOneResult at 0x7f7bbb5ea500>"
      ]
     },
     "execution_count": 26,
     "metadata": {},
     "output_type": "execute_result"
    }
   ],
   "source": [
    "lyric_coll.insert_one(lyrics_dict)"
   ]
  },
  {
   "cell_type": "code",
   "execution_count": 27,
   "metadata": {},
   "outputs": [
    {
     "data": {
      "text/plain": [
       "<pymongo.results.InsertOneResult at 0x7f7bbb5ea9b0>"
      ]
     },
     "execution_count": 27,
     "metadata": {},
     "output_type": "execute_result"
    }
   ],
   "source": [
    "genre_coll.insert_one(genres_dict)"
   ]
  },
  {
   "cell_type": "code",
   "execution_count": 28,
   "metadata": {},
   "outputs": [
    {
     "data": {
      "text/plain": [
       "<pymongo.results.InsertOneResult at 0x7f7bbb5ead70>"
      ]
     },
     "execution_count": 28,
     "metadata": {},
     "output_type": "execute_result"
    }
   ],
   "source": [
    "feat_coll.insert_one(features_dict)"
   ]
  },
  {
   "cell_type": "markdown",
   "metadata": {},
   "source": [
    "# automate process"
   ]
  },
  {
   "cell_type": "markdown",
   "metadata": {},
   "source": [
    "## test unique album pulls\n",
    "# DO NOT RUN"
   ]
  },
  {
   "cell_type": "code",
   "execution_count": 29,
   "metadata": {},
   "outputs": [],
   "source": [
    "plucked_album_ids = []\n",
    "BASELINE_ID_LIST = []\n",
    "dfs = pickle.load(open('dfs_w_lyrics.pkl', 'rb'))\n",
    "df = pd.concat(dfs)\n",
    "album_ids_baseline = df['album_id'].unique()"
   ]
  },
  {
   "cell_type": "code",
   "execution_count": null,
   "metadata": {},
   "outputs": [],
   "source": [
    "for album_ids in album_ids_baseline:\n",
    "    BASELINE_ID_LIST.append(album_ids)"
   ]
  },
  {
   "cell_type": "code",
   "execution_count": 30,
   "metadata": {},
   "outputs": [],
   "source": [
    "for _ in range(10000):\n",
    "    album_query = sp.search(q=get_rand_word(gen), limit=limit, offset=get_rand_offset(), type=q_type)\n",
    "    plucked_album_ids.append(get_album_ids_from_query(album_query))\n",
    "# flattened_album_ids = [id_ for sublist in plucked_album_ids for id_ in sublist]"
   ]
  },
  {
   "cell_type": "code",
   "execution_count": 31,
   "metadata": {},
   "outputs": [],
   "source": [
    "flattened_album_ids = [id_ for sublist in plucked_album_ids for id_ in sublist]\n",
    "unique_album_ids = pd.Series(flattened_album_ids).nunique()"
   ]
  },
  {
   "cell_type": "code",
   "execution_count": 32,
   "metadata": {},
   "outputs": [
    {
     "name": "stdout",
     "output_type": "stream",
     "text": [
      "435215 plucked, 156285 are unique\n"
     ]
    }
   ],
   "source": [
    "print(f'{len(flattened_album_ids)} plucked, {unique_album_ids} are unique')"
   ]
  },
  {
   "cell_type": "code",
   "execution_count": 33,
   "metadata": {},
   "outputs": [],
   "source": [
    "for id_ in MASTER_IDS:\n",
    "    if id_ not in set(flattened_album_ids):\n",
    "        flattened_album_ids.append(id_)"
   ]
  },
  {
   "cell_type": "code",
   "execution_count": 34,
   "metadata": {},
   "outputs": [
    {
     "name": "stdout",
     "output_type": "stream",
     "text": [
      "435215 plucked, 156285 are unique\n"
     ]
    }
   ],
   "source": [
    "unique_album_ids = pd.Series(flattened_album_ids).nunique()\n",
    "print(f'{len(flattened_album_ids)} plucked, {unique_album_ids} are unique')"
   ]
  },
  {
   "cell_type": "code",
   "execution_count": 38,
   "metadata": {},
   "outputs": [],
   "source": [
    "unique_ids = pd.Series(flattened_album_ids).unique()"
   ]
  },
  {
   "cell_type": "code",
   "execution_count": 40,
   "metadata": {},
   "outputs": [],
   "source": [
    "#pickle.dump(unique_ids, open('MASTER_ALBUM_IDS.pkl', 'wb'))"
   ]
  },
  {
   "cell_type": "markdown",
   "metadata": {},
   "source": [
    "## test stop"
   ]
  },
  {
   "cell_type": "markdown",
   "metadata": {},
   "source": [
    "# Process albums"
   ]
  },
  {
   "cell_type": "code",
   "execution_count": 31,
   "metadata": {},
   "outputs": [],
   "source": [
    "unique_ids = pickle.load(open('MASTER_ALBUM_IDS.pkl', 'rb'))"
   ]
  },
  {
   "cell_type": "code",
   "execution_count": null,
   "metadata": {},
   "outputs": [],
   "source": [
    "# mongo instant\n",
    "client = MongoClient('localhost', 27017)\n",
    "db = client['album_info']\n",
    "db['album_id_master']\n",
    "db['albums']\n",
    "db['lyrics']\n",
    "db['genres']\n",
    "db['feat_df']\n",
    "master_coll = db['album_master_id']\n",
    "album_coll = db['albums']\n",
    "lyric_coll = db['lyrics']\n",
    "genre_coll = db['genres']\n",
    "feat_coll = db['feat_df']"
   ]
  },
  {
   "cell_type": "code",
   "execution_count": 32,
   "metadata": {
    "scrolled": true
   },
   "outputs": [
    {
     "name": "stdout",
     "output_type": "stream",
     "text": [
      "3RoG4xBbhThunES2bojEm7\n"
     ]
    }
   ],
   "source": [
    "for id_ in unique_ids:\n",
    "    album = sp.album(id_)\n",
    "    album_dict, tracks, track_ids = album_builder_test(album)\n",
    "    \n",
    "    artist = album_dict['artist'][0]\n",
    "    artist_id = album_dict['artist_id'][0]\n",
    "    album_id = album_dict['album_id'][0]\n",
    "\n",
    "    genres = sp.artist(artist_id)['genres']\n",
    "    audio_features = sp.audio_features(track_ids)\n",
    "    \n",
    "    genres_dict = genres_builder(album_id, genres)\n",
    "    lyrics_dict = lyrics_builder(tracks, artist, album_id, genius)\n",
    "    features_dict = audio_features_builder(album_id, audio_features)\n",
    "    \n",
    "    '''dicts for mongo'''\n",
    "    album_coll.insert_one(album_dict)\n",
    "    lyric_coll.insert_one(lyrics_dict)\n",
    "    genre_coll.insert_one(genres_dict)\n",
    "    feat_coll.insert_one(features_dict)"
   ]
  },
  {
   "cell_type": "code",
   "execution_count": null,
   "metadata": {},
   "outputs": [],
   "source": [
    "id_ = '4yP0hdKOZPNshxUOjY0cZj'"
   ]
  },
  {
   "cell_type": "code",
   "execution_count": null,
   "metadata": {},
   "outputs": [],
   "source": [
    "album = sp.album(id_)\n",
    "album_dict, tracks, track_ids = album_builder_test(album)\n",
    "\n",
    "artist = album_dict['artist'][0]\n",
    "artist_id = album_dict['artist_id'][0]\n",
    "album_id = album_dict['album_id'][0]\n",
    "\n",
    "genres = sp.artist(artist_id)['genres']\n",
    "audio_features = sp.audio_features(track_ids)\n",
    "\n",
    "genres_dict = genres_builder(album_id, genres)\n",
    "lyrics_dict = lyrics_builder(tracks, artist, album_id, genius)\n",
    "features_dict = audio_features_builder(album_id, audio_features)\n",
    "\n",
    "'''dicts for mongo'''\n",
    "album_coll.insert_one(album_dict)\n",
    "lyric_coll.insert_one(lyrics_dict)\n",
    "genre_coll.insert_one(genres_dict)\n",
    "feat_coll.insert_one(features_dict)"
   ]
  },
  {
   "cell_type": "code",
   "execution_count": null,
   "metadata": {},
   "outputs": [],
   "source": [
    "client.close()"
   ]
  }
 ],
 "metadata": {
  "kernelspec": {
   "display_name": "Python 3",
   "language": "python",
   "name": "python3"
  },
  "language_info": {
   "codemirror_mode": {
    "name": "ipython",
    "version": 3
   },
   "file_extension": ".py",
   "mimetype": "text/x-python",
   "name": "python",
   "nbconvert_exporter": "python",
   "pygments_lexer": "ipython3",
   "version": "3.7.6"
  }
 },
 "nbformat": 4,
 "nbformat_minor": 4
}
