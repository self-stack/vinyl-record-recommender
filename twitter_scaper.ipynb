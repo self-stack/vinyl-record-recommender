{
 "cells": [
  {
   "cell_type": "code",
   "execution_count": 1,
   "metadata": {},
   "outputs": [],
   "source": [
    "from twitter_scraper import get_tweets\n",
    "import pandas as pd\n",
    "import numpy as np\n",
    "import scipy as sc"
   ]
  },
  {
   "cell_type": "code",
   "execution_count": 2,
   "metadata": {},
   "outputs": [],
   "source": [
    "from tqdm.notebook import tqdm"
   ]
  },
  {
   "cell_type": "code",
   "execution_count": 10,
   "metadata": {},
   "outputs": [],
   "source": [
    "from multiprocessing import Pool"
   ]
  },
  {
   "cell_type": "code",
   "execution_count": 3,
   "metadata": {},
   "outputs": [],
   "source": [
    "keywords = ['machinelearning', 'ML', 'deeplearning', \n",
    "            '#artificialintelligence', '#NLP', 'computervision', 'AI', \n",
    "            'tensorflow', 'pytorch', \"sklearn\", \"pandas\", \"plotly\", \n",
    "            \"spacy\", \"fastai\", 'datascience', 'dataanalysis']"
   ]
  },
  {
   "cell_type": "code",
   "execution_count": 4,
   "metadata": {},
   "outputs": [],
   "source": [
    "tweets = get_tweets('#machinelearning', pages=5)\n",
    "tweets_df = pd.DataFrame()"
   ]
  },
  {
   "cell_type": "code",
   "execution_count": 5,
   "metadata": {},
   "outputs": [
    {
     "name": "stdout",
     "output_type": "stream",
     "text": [
      "Keys: ['tweetId', 'tweetUrl', 'username', 'userId', 'isRetweet', 'isPinned', 'time', 'text', 'replies', 'retweets', 'likes', 'entries'] \n",
      "\n",
      "<class 'dict'>\n"
     ]
    }
   ],
   "source": [
    "for tweet in tweets:\n",
    "    print('Keys:', list(tweet.keys()), '\\n')\n",
    "    print(type(tweet))\n",
    "    break"
   ]
  },
  {
   "cell_type": "code",
   "execution_count": 6,
   "metadata": {},
   "outputs": [],
   "source": [
    "for tweet in tweets:\n",
    "    _ = pd.DataFrame({'text' : [tweet['text']],\n",
    "                    'isRetweet' : tweet['isRetweet'],\n",
    "                    'replies' : tweet['replies'],\n",
    "                    'retweets' : tweet['retweets'],\n",
    "                    'likes' : tweet['likes']\n",
    "                     })\n",
    "    tweets_df = tweets_df.append(_, ignore_index=True)    "
   ]
  },
  {
   "cell_type": "code",
   "execution_count": 7,
   "metadata": {},
   "outputs": [
    {
     "data": {
      "text/html": [
       "<div>\n",
       "<style scoped>\n",
       "    .dataframe tbody tr th:only-of-type {\n",
       "        vertical-align: middle;\n",
       "    }\n",
       "\n",
       "    .dataframe tbody tr th {\n",
       "        vertical-align: top;\n",
       "    }\n",
       "\n",
       "    .dataframe thead th {\n",
       "        text-align: right;\n",
       "    }\n",
       "</style>\n",
       "<table border=\"1\" class=\"dataframe\">\n",
       "  <thead>\n",
       "    <tr style=\"text-align: right;\">\n",
       "      <th></th>\n",
       "      <th>text</th>\n",
       "      <th>isRetweet</th>\n",
       "      <th>replies</th>\n",
       "      <th>retweets</th>\n",
       "      <th>likes</th>\n",
       "    </tr>\n",
       "  </thead>\n",
       "  <tbody>\n",
       "    <tr>\n",
       "      <th>0</th>\n",
       "      <td>With 12 outlets, dual surge protection, and ov...</td>\n",
       "      <td>False</td>\n",
       "      <td>0</td>\n",
       "      <td>1</td>\n",
       "      <td>8</td>\n",
       "    </tr>\n",
       "    <tr>\n",
       "      <th>1</th>\n",
       "      <td>IoT and Machine Learning — Intro and Infra set...</td>\n",
       "      <td>False</td>\n",
       "      <td>0</td>\n",
       "      <td>2</td>\n",
       "      <td>0</td>\n",
       "    </tr>\n",
       "    <tr>\n",
       "      <th>2</th>\n",
       "      <td>Real world Applications of Natural Language Pr...</td>\n",
       "      <td>False</td>\n",
       "      <td>0</td>\n",
       "      <td>1</td>\n",
       "      <td>0</td>\n",
       "    </tr>\n",
       "    <tr>\n",
       "      <th>3</th>\n",
       "      <td>Feature Engineering for Numerical Data #Machin...</td>\n",
       "      <td>False</td>\n",
       "      <td>0</td>\n",
       "      <td>0</td>\n",
       "      <td>1</td>\n",
       "    </tr>\n",
       "    <tr>\n",
       "      <th>4</th>\n",
       "      <td>#MachineLearning https://twitter.com/gp_pulipa...</td>\n",
       "      <td>False</td>\n",
       "      <td>0</td>\n",
       "      <td>3</td>\n",
       "      <td>0</td>\n",
       "    </tr>\n",
       "  </tbody>\n",
       "</table>\n",
       "</div>"
      ],
      "text/plain": [
       "                                                text  isRetweet  replies  \\\n",
       "0  With 12 outlets, dual surge protection, and ov...      False        0   \n",
       "1  IoT and Machine Learning — Intro and Infra set...      False        0   \n",
       "2  Real world Applications of Natural Language Pr...      False        0   \n",
       "3  Feature Engineering for Numerical Data #Machin...      False        0   \n",
       "4  #MachineLearning https://twitter.com/gp_pulipa...      False        0   \n",
       "\n",
       "   retweets  likes  \n",
       "0         1      8  \n",
       "1         2      0  \n",
       "2         1      0  \n",
       "3         0      1  \n",
       "4         3      0  "
      ]
     },
     "execution_count": 7,
     "metadata": {},
     "output_type": "execute_result"
    }
   ],
   "source": [
    "tweets_df.head()"
   ]
  },
  {
   "cell_type": "code",
   "execution_count": 8,
   "metadata": {},
   "outputs": [
    {
     "data": {
      "text/plain": [
       "84"
      ]
     },
     "execution_count": 8,
     "metadata": {},
     "output_type": "execute_result"
    }
   ],
   "source": [
    "len(tweets_df)"
   ]
  },
  {
   "cell_type": "code",
   "execution_count": 8,
   "metadata": {},
   "outputs": [
    {
     "data": {
      "application/vnd.jupyter.widget-view+json": {
       "model_id": "08ba76e9daf0463982d3d802e03579cd",
       "version_major": 2,
       "version_minor": 0
      },
      "text/plain": [
       "HBox(children=(FloatProgress(value=0.0, max=16.0), HTML(value='')))"
      ]
     },
     "metadata": {},
     "output_type": "display_data"
    },
    {
     "name": "stdout",
     "output_type": "stream",
     "text": [
      "machinelearning : Expecting value: line 1 column 1 (char 0)\n",
      "ML : Expecting value: line 1 column 1 (char 0)\n",
      "deeplearning : Expecting value: line 1 column 1 (char 0)\n",
      "computervision : Expecting value: line 1 column 1 (char 0)\n",
      "AI : Expecting value: line 1 column 1 (char 0)\n",
      "tensorflow : Expecting value: line 1 column 1 (char 0)\n",
      "pytorch : Expecting value: line 1 column 1 (char 0)\n",
      "sklearn : Expecting value: line 1 column 1 (char 0)\n",
      "pandas : Expecting value: line 1 column 1 (char 0)\n",
      "plotly : Expecting value: line 1 column 1 (char 0)\n",
      "spacy : Expecting value: line 1 column 1 (char 0)\n",
      "fastai : Expecting value: line 1 column 1 (char 0)\n",
      "datascience : Expecting value: line 1 column 1 (char 0)\n",
      "dataanalysis : Expecting value: line 1 column 1 (char 0)\n",
      "\n"
     ]
    }
   ],
   "source": [
    "# measuring the time it takes to complete this process\n",
    "# %%time\n",
    "    all_tweets_df = pd.DataFrame()\n",
    "    for word in tqdm(keywords):\n",
    "        tweets = get_tweets(word, pages=100)\n",
    "        try:\n",
    "            for tweet in tweets:\n",
    "                _ = pd.DataFrame({'hashtag': word,\n",
    "                                 'text': [tweet['text']],\n",
    "                                 'isRetweet': tweet['isRetweet'],\n",
    "                                 'replies': tweet['replies'],\n",
    "                                 'retweets': tweet['retweets'],\n",
    "                                 'likes': tweet['likes']\n",
    "                                 })\n",
    "                all_tweets_df = all_tweets_df.append(_, ignore_index=True)\n",
    "        except Exception as e:\n",
    "            print(word, ':', e)\n",
    "            continue"
   ]
  },
  {
   "cell_type": "code",
   "execution_count": 9,
   "metadata": {},
   "outputs": [
    {
     "data": {
      "text/html": [
       "<div>\n",
       "<style scoped>\n",
       "    .dataframe tbody tr th:only-of-type {\n",
       "        vertical-align: middle;\n",
       "    }\n",
       "\n",
       "    .dataframe tbody tr th {\n",
       "        vertical-align: top;\n",
       "    }\n",
       "\n",
       "    .dataframe thead th {\n",
       "        text-align: right;\n",
       "    }\n",
       "</style>\n",
       "<table border=\"1\" class=\"dataframe\">\n",
       "  <thead>\n",
       "    <tr style=\"text-align: right;\">\n",
       "      <th></th>\n",
       "      <th>hashtag</th>\n",
       "      <th>text</th>\n",
       "      <th>isRetweet</th>\n",
       "      <th>replies</th>\n",
       "      <th>retweets</th>\n",
       "      <th>likes</th>\n",
       "    </tr>\n",
       "  </thead>\n",
       "  <tbody>\n",
       "    <tr>\n",
       "      <th>0</th>\n",
       "      <td>#artificialintelligence</td>\n",
       "      <td>What are the Important Factors \\n\\nthat Drive ...</td>\n",
       "      <td>False</td>\n",
       "      <td>0</td>\n",
       "      <td>0</td>\n",
       "      <td>0</td>\n",
       "    </tr>\n",
       "    <tr>\n",
       "      <th>1</th>\n",
       "      <td>#artificialintelligence</td>\n",
       "      <td>Upload trained AI models or save time by choos...</td>\n",
       "      <td>False</td>\n",
       "      <td>0</td>\n",
       "      <td>0</td>\n",
       "      <td>2</td>\n",
       "    </tr>\n",
       "    <tr>\n",
       "      <th>2</th>\n",
       "      <td>#artificialintelligence</td>\n",
       "      <td>What are the Important Factors that Drive Arti...</td>\n",
       "      <td>False</td>\n",
       "      <td>0</td>\n",
       "      <td>0</td>\n",
       "      <td>0</td>\n",
       "    </tr>\n",
       "    <tr>\n",
       "      <th>3</th>\n",
       "      <td>#artificialintelligence</td>\n",
       "      <td>My #new #batman #warrior suit fx #art with #Ar...</td>\n",
       "      <td>False</td>\n",
       "      <td>0</td>\n",
       "      <td>0</td>\n",
       "      <td>0</td>\n",
       "    </tr>\n",
       "    <tr>\n",
       "      <th>4</th>\n",
       "      <td>#artificialintelligence</td>\n",
       "      <td>The coronavirus has hastened the development a...</td>\n",
       "      <td>False</td>\n",
       "      <td>0</td>\n",
       "      <td>0</td>\n",
       "      <td>0</td>\n",
       "    </tr>\n",
       "    <tr>\n",
       "      <th>...</th>\n",
       "      <td>...</td>\n",
       "      <td>...</td>\n",
       "      <td>...</td>\n",
       "      <td>...</td>\n",
       "      <td>...</td>\n",
       "      <td>...</td>\n",
       "    </tr>\n",
       "    <tr>\n",
       "      <th>3865</th>\n",
       "      <td>#NLP</td>\n",
       "      <td>Yea\\nhttps://www.youtube.com/watch?v=zYdJ1leKV...</td>\n",
       "      <td>False</td>\n",
       "      <td>0</td>\n",
       "      <td>0</td>\n",
       "      <td>0</td>\n",
       "    </tr>\n",
       "    <tr>\n",
       "      <th>3866</th>\n",
       "      <td>#NLP</td>\n",
       "      <td>Human performance coaching Let's get the best ...</td>\n",
       "      <td>False</td>\n",
       "      <td>0</td>\n",
       "      <td>0</td>\n",
       "      <td>0</td>\n",
       "    </tr>\n",
       "    <tr>\n",
       "      <th>3867</th>\n",
       "      <td>#NLP</td>\n",
       "      <td>Learn to create a sentiment analyzer that will...</td>\n",
       "      <td>False</td>\n",
       "      <td>0</td>\n",
       "      <td>0</td>\n",
       "      <td>0</td>\n",
       "    </tr>\n",
       "    <tr>\n",
       "      <th>3868</th>\n",
       "      <td>#NLP</td>\n",
       "      <td>繊細さんは、共感力が強すぎて困る…かもしれない。でも、非繊細さんがエンパスになろうと思ってな...</td>\n",
       "      <td>False</td>\n",
       "      <td>0</td>\n",
       "      <td>0</td>\n",
       "      <td>3</td>\n",
       "    </tr>\n",
       "    <tr>\n",
       "      <th>3869</th>\n",
       "      <td>#NLP</td>\n",
       "      <td>質問が人生を変える！モーニングクエスチョン\\nby #アンソニー・ロビンス\\n（ルール：自分...</td>\n",
       "      <td>False</td>\n",
       "      <td>0</td>\n",
       "      <td>0</td>\n",
       "      <td>0</td>\n",
       "    </tr>\n",
       "  </tbody>\n",
       "</table>\n",
       "<p>3870 rows × 6 columns</p>\n",
       "</div>"
      ],
      "text/plain": [
       "                      hashtag  \\\n",
       "0     #artificialintelligence   \n",
       "1     #artificialintelligence   \n",
       "2     #artificialintelligence   \n",
       "3     #artificialintelligence   \n",
       "4     #artificialintelligence   \n",
       "...                       ...   \n",
       "3865                     #NLP   \n",
       "3866                     #NLP   \n",
       "3867                     #NLP   \n",
       "3868                     #NLP   \n",
       "3869                     #NLP   \n",
       "\n",
       "                                                   text  isRetweet  replies  \\\n",
       "0     What are the Important Factors \\n\\nthat Drive ...      False        0   \n",
       "1     Upload trained AI models or save time by choos...      False        0   \n",
       "2     What are the Important Factors that Drive Arti...      False        0   \n",
       "3     My #new #batman #warrior suit fx #art with #Ar...      False        0   \n",
       "4     The coronavirus has hastened the development a...      False        0   \n",
       "...                                                 ...        ...      ...   \n",
       "3865  Yea\\nhttps://www.youtube.com/watch?v=zYdJ1leKV...      False        0   \n",
       "3866  Human performance coaching Let's get the best ...      False        0   \n",
       "3867  Learn to create a sentiment analyzer that will...      False        0   \n",
       "3868  繊細さんは、共感力が強すぎて困る…かもしれない。でも、非繊細さんがエンパスになろうと思ってな...      False        0   \n",
       "3869  質問が人生を変える！モーニングクエスチョン\\nby #アンソニー・ロビンス\\n（ルール：自分...      False        0   \n",
       "\n",
       "      retweets  likes  \n",
       "0            0      0  \n",
       "1            0      2  \n",
       "2            0      0  \n",
       "3            0      0  \n",
       "4            0      0  \n",
       "...        ...    ...  \n",
       "3865         0      0  \n",
       "3866         0      0  \n",
       "3867         0      0  \n",
       "3868         0      3  \n",
       "3869         0      0  \n",
       "\n",
       "[3870 rows x 6 columns]"
      ]
     },
     "execution_count": 9,
     "metadata": {},
     "output_type": "execute_result"
    }
   ],
   "source": [
    "all_tweets_df"
   ]
  },
  {
   "cell_type": "code",
   "execution_count": 11,
   "metadata": {},
   "outputs": [],
   "source": [
    "def fetch_tweets(word):\n",
    "    tweet_df = pd.DataFrame()\n",
    "    tweets = get_tweets(word, pages=100)\n",
    "    try:\n",
    "        for tweet in tweets:\n",
    "            _ = pd.DataFrame({'hashtag': word, \n",
    "                             'text': [tweet['text']],\n",
    "                             'isRetweet': tweet['isRetweet'],\n",
    "                             'replies': tweet['replies'],\n",
    "                             'retweets': tweet['retweets'],\n",
    "                             'likes': tweet['likes']\n",
    "                             })\n",
    "            tweet_df = tweet_df.append(_, ignore_index=True)\n",
    "    except Exception as e:\n",
    "        print(word, ':', e)\n",
    "\n",
    "    return tweet_df"
   ]
  },
  {
   "cell_type": "code",
   "execution_count": 12,
   "metadata": {},
   "outputs": [
    {
     "name": "stdout",
     "output_type": "stream",
     "text": [
      "ML#artificialintelligencemachinelearning   :::  deeplearning HTTPSConnectionPool(host='twitter.com', port=443): Max retries exceeded with url: /i/search/timeline?f=tweets&vertical=default&q=%23artificialintelligence&src=tyah&reset_error_state=false&include_available_features=1&include_entities=1&include_new_items_bar=true (Caused by SSLError(SSLError(1, '[SSL: WRONG_VERSION_NUMBER] wrong version number (_ssl.c:2555)')))HTTPSConnectionPool(host='twitter.com', port=443): Max retries exceeded with url: /i/profiles/show/machinelearning/timeline/tweets?include_available_features=1&include_entities=1&include_new_items_bar=true (Caused by SSLError(SSLError(1, '[SSL: WRONG_VERSION_NUMBER] wrong version number (_ssl.c:2555)'))) HTTPSConnectionPool(host='twitter.com', port=443): Max retries exceeded with url: /i/profiles/show/ML/timeline/tweets?include_available_features=1&include_entities=1&include_new_items_bar=true (Caused by SSLError(SSLError(1, '[SSL: WRONG_VERSION_NUMBER] wrong version number (_ssl.c:2555)')))\n",
      "\n",
      ":\n",
      " HTTPSConnectionPool(host='twitter.com', port=443): Max retries exceeded with url: /i/profiles/show/deeplearning/timeline/tweets?include_available_features=1&include_entities=1&include_new_items_bar=true (Caused by SSLError(SSLError(1, '[SSL: DECRYPTION_FAILED_OR_BAD_RECORD_MAC] decryption failed or bad record mac (_ssl.c:2555)')))\n",
      "AI : Expecting value: line 1 column 1 (char 0)\n",
      "computervision : Expecting value: line 1 column 1 (char 0)\n",
      "tensorflow : Expecting value: line 1 column 1 (char 0)\n",
      "pytorch sklearn:  Expecting value: line 1 column 1 (char 0):\n",
      " Expecting value: line 1 column 1 (char 0)pandas\n",
      " : Expecting value: line 1 column 1 (char 0)\n",
      "plotly spacy:  :Expecting value: line 1 column 1 (char 0) \n",
      "Expecting value: line 1 column 1 (char 0)\n",
      "fastai : Expecting value: line 1 column 1 (char 0)\n",
      "datascience : Expecting value: line 1 column 1 (char 0)\n",
      "dataanalysis : Expecting value: line 1 column 1 (char 0)\n"
     ]
    }
   ],
   "source": [
    "with Pool(4) as p:\n",
    "    records = p.map(fetch_tweets, keywords)"
   ]
  },
  {
   "cell_type": "code",
   "execution_count": 16,
   "metadata": {},
   "outputs": [
    {
     "data": {
      "text/plain": [
       "True"
      ]
     },
     "execution_count": 16,
     "metadata": {},
     "output_type": "execute_result"
    }
   ],
   "source": [
    "len(records) == len(keywords)"
   ]
  },
  {
   "cell_type": "code",
   "execution_count": 17,
   "metadata": {},
   "outputs": [],
   "source": [
    "complete_records = pd.concat(records)"
   ]
  },
  {
   "cell_type": "code",
   "execution_count": 18,
   "metadata": {},
   "outputs": [
    {
     "data": {
      "text/html": [
       "<div>\n",
       "<style scoped>\n",
       "    .dataframe tbody tr th:only-of-type {\n",
       "        vertical-align: middle;\n",
       "    }\n",
       "\n",
       "    .dataframe tbody tr th {\n",
       "        vertical-align: top;\n",
       "    }\n",
       "\n",
       "    .dataframe thead th {\n",
       "        text-align: right;\n",
       "    }\n",
       "</style>\n",
       "<table border=\"1\" class=\"dataframe\">\n",
       "  <thead>\n",
       "    <tr style=\"text-align: right;\">\n",
       "      <th></th>\n",
       "      <th>hashtag</th>\n",
       "      <th>text</th>\n",
       "      <th>isRetweet</th>\n",
       "      <th>replies</th>\n",
       "      <th>retweets</th>\n",
       "      <th>likes</th>\n",
       "    </tr>\n",
       "  </thead>\n",
       "  <tbody>\n",
       "    <tr>\n",
       "      <th>0</th>\n",
       "      <td>#NLP</td>\n",
       "      <td>NTTデータ、iPS細胞の｢可能性｣予測するAI開発に成功。細胞の品質管理を効率化 | Bu...</td>\n",
       "      <td>False</td>\n",
       "      <td>0</td>\n",
       "      <td>0</td>\n",
       "      <td>0</td>\n",
       "    </tr>\n",
       "    <tr>\n",
       "      <th>1</th>\n",
       "      <td>#NLP</td>\n",
       "      <td>With 12 outlets, dual surge protection, and ov...</td>\n",
       "      <td>False</td>\n",
       "      <td>0</td>\n",
       "      <td>1</td>\n",
       "      <td>8</td>\n",
       "    </tr>\n",
       "    <tr>\n",
       "      <th>2</th>\n",
       "      <td>#NLP</td>\n",
       "      <td>จิตใต้สำนึกสื่อสารด้วยภาษาของคลื่นความถี่ และไ...</td>\n",
       "      <td>False</td>\n",
       "      <td>0</td>\n",
       "      <td>0</td>\n",
       "      <td>0</td>\n",
       "    </tr>\n",
       "    <tr>\n",
       "      <th>3</th>\n",
       "      <td>#NLP</td>\n",
       "      <td>How to Master the Popular DBSCAN Clustering Al...</td>\n",
       "      <td>False</td>\n",
       "      <td>0</td>\n",
       "      <td>1</td>\n",
       "      <td>2</td>\n",
       "    </tr>\n",
       "    <tr>\n",
       "      <th>4</th>\n",
       "      <td>#NLP</td>\n",
       "      <td>本日は、千葉！\\n\\n★無料心理講座体験★\\nやなせなつみ\\n\\n・悩み解消\\n・コミュニケ...</td>\n",
       "      <td>False</td>\n",
       "      <td>0</td>\n",
       "      <td>2</td>\n",
       "      <td>5</td>\n",
       "    </tr>\n",
       "  </tbody>\n",
       "</table>\n",
       "</div>"
      ],
      "text/plain": [
       "  hashtag                                               text  isRetweet  \\\n",
       "0    #NLP  NTTデータ、iPS細胞の｢可能性｣予測するAI開発に成功。細胞の品質管理を効率化 | Bu...      False   \n",
       "1    #NLP  With 12 outlets, dual surge protection, and ov...      False   \n",
       "2    #NLP  จิตใต้สำนึกสื่อสารด้วยภาษาของคลื่นความถี่ และไ...      False   \n",
       "3    #NLP  How to Master the Popular DBSCAN Clustering Al...      False   \n",
       "4    #NLP  本日は、千葉！\\n\\n★無料心理講座体験★\\nやなせなつみ\\n\\n・悩み解消\\n・コミュニケ...      False   \n",
       "\n",
       "   replies  retweets  likes  \n",
       "0        0         0      0  \n",
       "1        0         1      8  \n",
       "2        0         0      0  \n",
       "3        0         1      2  \n",
       "4        0         2      5  "
      ]
     },
     "execution_count": 18,
     "metadata": {},
     "output_type": "execute_result"
    }
   ],
   "source": [
    "complete_records.head()"
   ]
  },
  {
   "cell_type": "code",
   "execution_count": 19,
   "metadata": {},
   "outputs": [
    {
     "data": {
      "text/plain": [
       "2000"
      ]
     },
     "execution_count": 19,
     "metadata": {},
     "output_type": "execute_result"
    }
   ],
   "source": [
    "len(complete_records)"
   ]
  },
  {
   "cell_type": "code",
   "execution_count": null,
   "metadata": {},
   "outputs": [],
   "source": []
  }
 ],
 "metadata": {
  "kernelspec": {
   "display_name": "Python 3",
   "language": "python",
   "name": "python3"
  },
  "language_info": {
   "codemirror_mode": {
    "name": "ipython",
    "version": 3
   },
   "file_extension": ".py",
   "mimetype": "text/x-python",
   "name": "python",
   "nbconvert_exporter": "python",
   "pygments_lexer": "ipython3",
   "version": "3.7.7"
  }
 },
 "nbformat": 4,
 "nbformat_minor": 4
}
